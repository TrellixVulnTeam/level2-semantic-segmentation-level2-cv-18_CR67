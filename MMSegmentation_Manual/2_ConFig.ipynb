{
 "cells": [
  {
   "cell_type": "markdown",
   "metadata": {},
   "source": [
    "MMSegmentation은 다양한 실험을 하기 쉽게 system에 모듈형 상속 디자인을 system에 포함시켰다고 한다. <br>\n",
    "만약 config file을 점검해보고 싶다면 **python tools/print_config.py /PATH/TO/CONFIG**를 실행시켜 보라고 한다."
   ]
  },
  {
   "cell_type": "markdown",
   "metadata": {},
   "source": [
    "<strong> <h3> Config File Structure </h3> </strong>\n",
    "\n",
    "**config/base**폴더 안에는 dataset, model, schedule, defualt_runtime.py 총 4개의 기본 요소가 존재한다. <br>\n",
    "많은 방식들은 DeepLabV3, PSPNet과 같은 것들 중 하나로 쉽게 구성될 수 있다. <br>\n",
    "이때 base의 구성 요소들로 구성된 config들을 primitive라고 불린다.\n",
    "\n",
    "같은 폴더 안에있는 모든 config들은 오직 하나의 primitive를 가지도록 권장된다. <br>\n",
    "모든 다른 config들은 primitive config로부터 상속받아야 한다. <br>\n",
    "위 방식에 따라, 최대 상속 level은 3이 최대다.\n",
    "\n",
    "쉬운 이해를 위해, 계발자들은 존재하는 방식들로 부터 상속받는 것을 권장한다고 한다. <br>\n",
    "예를 들어, 만약 몇 가지 수정이 DeepLabV3 base에서 수행되었다면, 사용자는 처음에 기본 DeepLabV3 structure를 아래 명령으로 상속 받을 것이다. \n",
    "> _base_ = ../deeplabv3/deeplabv3_r50_512x1024_40ki_cityscapes.py\n",
    "\n",
    "그리고 config 파일들의 필요한 영역을 수정한다.\n",
    "\n",
    "만약 존재하지 않는 새로운 방식을 사용해야 한다면 configs 아래에 xxxnet folder를 만들어줘야 한다.\n",
    "\n",
    "자세한 내용은 상세한 document이 [mmcv](https://mmcv.readthedocs.io/en/latest/understand_mmcv/config.html)를 참고하라고 한다."
   ]
  },
  {
   "cell_type": "markdown",
   "metadata": {},
   "source": [
    "<strong> <h3> Config Name Style </h3> </strong>\n",
    "\n",
    "config file들은 아래 스타일의 이름을 따라야 한다. \n",
    "```\n",
    "{model}_{backbone}_[misc]_[gpu x batch_per_gpu]_{resolution}_{iterations}_{dataset}\n",
    "```\n",
    "* {model}: psp, deeplabv3 등 모델 종류를 의미한다.\n",
    "* {backbone}: r50(ResNet-50), x101(ResNeXt-101)과 같은 backbone 종류를 의미한다.\n",
    "* [misc]: dconv, gcb, attention 등 다양한 모델의 setting/plugins를 의미한다.\n",
    "* [gpu x batch_per_gpu]: GPU들과 각 GPU의 sample들을 의미한다. default는 8×2다.\n",
    "* {iterations}: 160k와 같이 훈련 iteration 횟수를 말한다.\n",
    "* {dataset}: cityscapes, voc12aug등 dataset을 의미한다."
   ]
  }
 ],
 "metadata": {
  "language_info": {
   "name": "python"
  },
  "orig_nbformat": 4
 },
 "nbformat": 4,
 "nbformat_minor": 2
}
