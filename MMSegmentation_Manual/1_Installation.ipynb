{
 "cells": [
  {
   "cell_type": "markdown",
   "metadata": {},
   "source": [
    "<strong> <h3> 1. Installation </h3> </strong>"
   ]
  },
  {
   "cell_type": "markdown",
   "metadata": {},
   "source": [
    "**(1) 먼저 콘다 가상환경을 만들고 활성화해야 한다.**\n",
    "\n",
    "```\n",
    "conda create -n open-mmlab python=3.10\n",
    "conda activate open-mmlab\n",
    "```\n",
    "\n",
    "activate 명령 수행시 에러가 발생할 수 있다. <br>\n",
    "그렇다면 아래 명령을 사용해주자.\n",
    "\n",
    "```\n",
    "source ./../conda/etc/profile.d/conda.sh\n",
    "```"
   ]
  },
  {
   "cell_type": "markdown",
   "metadata": {},
   "source": [
    "**(2) 이후 공식 사용서에 따라 PyTorch와 torchvision을 설치해야 한다.**\n",
    "<br> 공식 문서에서 PyTorch는 1.11.0, CUDA는 11.3 버전을 사용했지만 다른 버전을 사용하고 싶다면 아래 명령에 해당 버전의 숫자로 변경해주면 된다.\n",
    "\n",
    "```\n",
    "conda install pytorch=1.11.0 torchvision cudatoolkit=11.3 -c pytorch\n",
    "```"
   ]
  },
  {
   "cell_type": "markdown",
   "metadata": {},
   "source": [
    "**(3) 그리고 mmcv-full을 다운 받아야 한다.** <br> \n",
    "이때 주의할 점이 다운 전에 이미 mmcv가 설치되어 있다면 삭제해야 한다. <br>\n",
    "우리가 설치해야할 것은 mmcv-full인데 mmcv가 미리 설치되어 있어 둘이 동시에 설치되면 **ModuleNotFoundError**가 발생한다고 한다.\n",
    "\n",
    "따라서 먼저 아래 명령을 수행해 mmcv를 삭제해준다.\n",
    "```\n",
    "pip uninstall mmcv\n",
    "```\n",
    "\n",
    "그리고 아래 명령의 구조를 사용해 명령을 입력한다.\n",
    "```\n",
    "pip install mmcv-full -f https://download.openmmlab.com/mmcv/dist/{cu_version}/{torch_version}/index.html\n",
    "```\n",
    "\n",
    "이때 {cu_version}과 {torch_version}는 우리가 원하는 버전으로 바꿔주면 된다. <br>\n",
    "단, mmcv-full은 PyTorch 1.x.0과 1.x.1에서만 호환성을 유지하기 때문에 1.x.0 에서만 컴파일된다. <br>\n",
    "만약 conda의 PyTorch 버전이 1.x.1이라면 1.x.0으로 컴파일되는 mmcv-full을 설치할 수 있다. <br>\n",
    "예를 들어, CUDA가 11.3, PyTorch가 1.11.0이라면 아래와 같이 명령을 입력하면 된다. \n",
    "```\n",
    "pip install mmcv-full -f https://download.openmmlab.com/mmcv/dist/cu113/torch1.11/index.html\n",
    "```\n",
    "\n",
    "만약 위 버전이 아니라 다른 버전을 사용한다면 다음 명령을 사용하면 된다.\n",
    "```\n",
    "git clone https://github.com/open-mmlab/mmcv.git\n",
    "cd mmcv\n",
    "MMCV_WITH_OPS=1 pip install -e .  # package mmcv-full, which contains cuda ops, will be installed after this step\n",
    "# OR pip install -e .  # package mmcv, which contains no cuda ops, will be installed after this step\n",
    "cd ..\n",
    "```"
   ]
  },
  {
   "cell_type": "markdown",
   "metadata": {},
   "source": [
    "**(4) mmcv-full 설치 후에는 MMSegmentation을 설치해야 한다.** <br>\n",
    "아래 명령을 실행하면 가장 최신 버전으로 설치된다.\n",
    "\n",
    "```\n",
    "pip intall mmsegmentation\n",
    "```\n",
    "\n",
    "만약 MMSegmentation을 dev 모드로 설치하고 싶다면 다음과 같이 설치하라고 한다.\n",
    "\n",
    "```\n",
    "git clone https://github.com/open-mmlab/mmsegmentation.git\n",
    "cd mmsegmentation\n",
    "pip install -e .\n",
    "```"
   ]
  },
  {
   "cell_type": "markdown",
   "metadata": {},
   "source": [
    "<strong> <h3> Full setup script </h3> </strong>"
   ]
  },
  {
   "cell_type": "markdown",
   "metadata": {},
   "source": [
    "아래는 위에서 설명한 모든 명령을 모아놓은 스크립트다. <br>\n",
    "\n",
    "```\n",
    "conda create -n open-mmlab python=3.10 -y\n",
    "conda activate open-mmlab\n",
    "\n",
    "conda install pytorch=1.11.0 torchvision cudatoolkit=11.3 -c pytorch\n",
    "pip install mmcv-full -f https://download.openmmlab.com/mmcv/dist/cu113/torch1.11.0/index.html\n",
    "git clone https://github.com/open-mmlab/mmsegmentation.git\n",
    "cd mmsegmentation\n",
    "pip install -e .  # or \"python setup.py develop\"\n",
    "\n",
    "mkdir data\n",
    "ln -s $DATA_ROOT data # $DATA_ROOT는 우리의 dataset 경로를 입력해야 한다.\n",
    "```"
   ]
  },
  {
   "cell_type": "markdown",
   "metadata": {},
   "source": [
    "demo 폴더의 inference_demo.ipynb이 제대로 작동된다면 설치가 잘 된 것을 확인할 수 있다."
   ]
  }
 ],
 "metadata": {
  "language_info": {
   "name": "python"
  },
  "orig_nbformat": 4
 },
 "nbformat": 4,
 "nbformat_minor": 2
}
