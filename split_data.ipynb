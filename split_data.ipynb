{
 "cells": [
  {
   "cell_type": "code",
   "execution_count": null,
   "metadata": {},
   "outputs": [],
   "source": [
    "# 모듈 import\n",
    "from mmcv import Config\n",
    "from mmseg.datasets import build_dataset\n",
    "from mmseg.models import build_detector\n",
    "from mmseg.apis import train_detector\n",
    "from mmseg.datasets import (build_dataloader, build_dataset,\n",
    "                            replace_ImageToTensor)"
   ]
  },
  {
   "cell_type": "code",
   "execution_count": 27,
   "metadata": {},
   "outputs": [
    {
     "name": "stderr",
     "output_type": "stream",
     "text": [
      "100%|██████████| 5/5 [01:36<00:00, 19.40s/it]\n"
     ]
    },
    {
     "name": "stdout",
     "output_type": "stream",
     "text": [
      "Done Make files\n"
     ]
    }
   ],
   "source": [
    "# multilabelStratifiedKfold\n",
    "import os\n",
    "import json\n",
    "import numpy as np\n",
    "import pandas as pd\n",
    "import argparse\n",
    "\n",
    "from tqdm import tqdm\n",
    "\n",
    "from iterstrat.ml_stratifiers import MultilabelStratifiedKFold\n",
    "\n",
    "# image 경로\n",
    "data_path = '/opt/ml/input/data/'\n",
    "images_path = os.path.join(data_path, 'train')\n",
    "\n",
    "# annotation 경로\n",
    "annotations_path = os.path.join(data_path,'train_all.json')\n",
    "\n",
    "# 생성할 fold 개수\n",
    "kfold = 5\n",
    "\n",
    "# 생성된 fold를 저장할 폴더 경로 지정\n",
    "path = './stratified_kfold'\n",
    "\n",
    "# Stratified kfold 진행\n",
    "def main():\n",
    "    with open(annotations_path, 'r') as f:\n",
    "        train_json = json.loads(f.read())\n",
    "        images = train_json['images']\n",
    "        categories = train_json['categories']\n",
    "        annotations = train_json['annotations']\n",
    "\n",
    "    annotations_df = pd.DataFrame.from_dict(annotations)\n",
    "    x = images\n",
    "    y = [[0] * len(categories) for _ in range(len(images))]\n",
    "    \n",
    "    # return len(annotations_df['category_id'].unique()), len(categories)\n",
    "    # return len(y),len(annotations),len(categories),len(images)\n",
    "    \n",
    "    # for anno in annotations:\n",
    "        # y[anno['image_id']][anno['category_id']] += 1\n",
    "\n",
    "    mskf = MultilabelStratifiedKFold(n_splits=kfold, shuffle=True)\n",
    "\n",
    "\n",
    "    if not os.path.exists(path):\n",
    "        os.mkdir(path)\n",
    "\n",
    "    for idx, (train_index, val_index) in tqdm(enumerate(mskf.split(x, y)), total=kfold):\n",
    "        train_dict = dict()\n",
    "        val_dict = dict()\n",
    "        for i in ['info', 'licenses', 'categories']:\n",
    "            train_dict[i] = train_json[i]\n",
    "            val_dict[i] = train_json[i]\n",
    "        train_dict['images'] = np.array(images)[train_index].tolist()\n",
    "        val_dict['images'] = np.array(images)[val_index].tolist()\n",
    "        train_dict['annotations'] = annotations_df[annotations_df['image_id'].isin(train_index)].to_dict('records')\n",
    "        val_dict['annotations'] = annotations_df[annotations_df['image_id'].isin(val_index)].to_dict('records')\n",
    "\n",
    "        train_dir = os.path.join(path, f'cv_train_{idx + 1}.json')\n",
    "        val_dir = os.path.join(path, f'cv_val_{idx + 1}.json')\n",
    "        with open(train_dir, 'w') as train_file:\n",
    "            json.dump(train_dict, train_file)\n",
    "\n",
    "        with open(val_dir, 'w') as val_file:\n",
    "            json.dump(val_dict, val_file)\n",
    "\n",
    "    print(\"Done Make files\")\n",
    "\n",
    "\n",
    "# if __name__ == \"__main__\":\n",
    "#     parser = argparse.ArgumentParser()\n",
    "#     parser.add_argument('--path', '-p', type=str, default='./stratified_kfold')\n",
    "#     parser.add_argument('--n_split', '-n', type=int, default=5)\n",
    "#     arg = parser.parse_args()\n",
    "#     main(arg)\n",
    "main()"
   ]
  },
  {
   "cell_type": "code",
   "execution_count": 33,
   "metadata": {},
   "outputs": [
    {
     "name": "stdout",
     "output_type": "stream",
     "text": [
      "2618 654\n",
      "2618 654\n",
      "2617 655\n",
      "2617 655\n",
      "2618 654\n"
     ]
    }
   ],
   "source": [
    "for i in range(1,6):\n",
    "    with open('./stratified_kfold/cv_train_'+ str(i) + '.json') as f:\n",
    "        train = json.load(f)\n",
    "    with open('./stratified_kfold/cv_val_'+ str(i) + '.json') as f:  \n",
    "        valid = json.load(f)\n",
    "    print(len(train['images']),len(valid['images']))"
   ]
  },
  {
   "cell_type": "code",
   "execution_count": 39,
   "metadata": {},
   "outputs": [],
   "source": [
    "# Read annotations\n",
    "with open('./stratified_kfold/cv_train_1.json', 'r') as f:\n",
    "    dataset = json.loads(f.read())\n",
    "\n",
    "categories = dataset['categories']\n",
    "anns = dataset['annotations']\n",
    "imgs = dataset['images']\n",
    "nr_cats = len(categories)\n",
    "nr_annotations = len(anns)\n",
    "nr_images = len(imgs)\n",
    "\n",
    "# Load categories and super categories\n",
    "cat_names = []\n",
    "super_cat_names = []\n",
    "super_cat_ids = {}\n",
    "super_cat_last_name = ''\n",
    "nr_super_cats = 0\n",
    "for cat_it in categories:\n",
    "    cat_names.append(cat_it['name'])\n",
    "    super_cat_name = cat_it['supercategory']\n",
    "    # Adding new supercat\n",
    "    if super_cat_name != super_cat_last_name:\n",
    "        super_cat_names.append(super_cat_name)\n",
    "        super_cat_ids[super_cat_name] = nr_super_cats\n",
    "        super_cat_last_name = super_cat_name\n",
    "        nr_super_cats += 1"
   ]
  },
  {
   "cell_type": "code",
   "execution_count": 40,
   "metadata": {},
   "outputs": [
    {
     "name": "stderr",
     "output_type": "stream",
     "text": [
      "/tmp/ipykernel_27259/3924265882.py:13: FutureWarning: In a future version of pandas all arguments of DataFrame.sort_values except for the argument 'by' will be keyword-only\n",
      "  df = df.sort_values('Number of annotations', 0, False)\n"
     ]
    },
    {
     "data": {
      "image/png": "[encoded data removed]",
      "text/plain": [
       "<Figure size 360x360 with 1 Axes>"
      ]
     },
     "metadata": {
      "needs_background": "light"
     },
     "output_type": "display_data"
    }
   ],
   "source": [
    "import matplotlib.pyplot as plt\n",
    "import seaborn as sns\n",
    "# Count annotations\n",
    "cat_histogram = np.zeros(nr_cats,dtype=int)\n",
    "for ann in anns:\n",
    "    cat_histogram[ann['category_id']-1] += 1\n",
    "\n",
    "# Initialize the matplotlib figure\n",
    "f, ax = plt.subplots(figsize=(5,5))\n",
    "\n",
    "# Convert to DataFrame\n",
    "df = pd.DataFrame({'Categories': cat_names, 'Number of annotations': cat_histogram})\n",
    "df = df.sort_values('Number of annotations', 0, False)\n",
    "\n",
    "# Plot the histogram\n",
    "plt.title(\"category distribution of train_all set \")\n",
    "plot_1 = sns.barplot(x=\"Number of annotations\", y=\"Categories\", data=df, label=\"Total\", color=\"b\")"
   ]
  }
 ],
 "metadata": {
  "interpreter": {
   "hash": "d4d1e4263499bec80672ea0156c357c1ee493ec2b1c70f0acce89fc37c4a6abe"
  },
  "kernelspec": {
   "display_name": "Python 3.8.5 ('base')",
   "language": "python",
   "name": "python3"
  },
  "language_info": {
   "codemirror_mode": {
    "name": "ipython",
    "version": 3
   },
   "file_extension": ".py",
   "mimetype": "text/x-python",
   "name": "python",
   "nbconvert_exporter": "python",
   "pygments_lexer": "ipython3",
   "version": "3.8.5"
  },
  "orig_nbformat": 4
 },
 "nbformat": 4,
 "nbformat_minor": 2
}
