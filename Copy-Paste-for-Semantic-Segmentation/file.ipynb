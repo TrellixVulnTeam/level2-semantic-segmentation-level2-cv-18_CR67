{
 "cells": [
  {
   "cell_type": "code",
   "execution_count": 2,
   "metadata": {},
   "outputs": [],
   "source": [
    "import os\n",
    "import json\n",
    "import shutil"
   ]
  },
  {
   "cell_type": "code",
   "execution_count": 30,
   "metadata": {},
   "outputs": [],
   "source": [
    "batch_01 = '/opt/ml/input/data/JPEGImages/batch_01_vt/'\n",
    "batch_02 = '/opt/ml/input/data/JPEGImages/batch_02_vt'\n",
    "batch_03 = '/opt/ml/input/data/JPEGImages/batch_03'\n",
    "\n",
    "jpeg_path = '/opt/ml/input/data/JPEGImages'\n",
    "seg_path = '/opt/ml/input/data/SegmentationClass'\n",
    "\n"
   ]
  },
  {
   "cell_type": "code",
   "execution_count": null,
   "metadata": {},
   "outputs": [],
   "source": [
    "i=2003\n",
    "for name in sorted(os.listdir('/opt/ml/input/data/SegmentationClass/batch_03')):\n",
    "    print(name)\n",
    "    src = os.path.join('/opt/ml/input/data/SegmentationClass/batch_03',name)\n",
    "    dst = str(i) + '.png'\n",
    "    dst = os.path.join('/opt/ml/input/data/SegmentationClass/batch_03',dst)\n",
    "    print(dst)\n",
    "    os.rename(src,dst)\n",
    "    i+=1\n",
    "\n"
   ]
  },
  {
   "cell_type": "code",
   "execution_count": 70,
   "metadata": {},
   "outputs": [],
   "source": [
    "for file in sorted(os.listdir('/opt/ml/input/data/SegmentationClass/batch_03')):\n",
    "    shutil.move('/opt/ml/input/data/SegmentationClass/batch_03/'+file,'/opt/ml/input/data/segmentationclass')"
   ]
  },
  {
   "cell_type": "code",
   "execution_count": 72,
   "metadata": {},
   "outputs": [
    {
     "name": "stdout",
     "output_type": "stream",
     "text": [
      "2617\n"
     ]
    }
   ],
   "source": [
    "print(len(os.listdir('/opt/ml/input/data/segmentationclass')))"
   ]
  },
  {
   "cell_type": "code",
   "execution_count": 4,
   "metadata": {},
   "outputs": [],
   "source": [
    "for file in os.listdir('/opt/ml/input/data/ann'):\n",
    "    shutil.move('/opt/ml/input/data/ann/'+file,'/opt/ml/input/mmseg/annotations/train_pseudo')"
   ]
  },
  {
   "cell_type": "code",
   "execution_count": 92,
   "metadata": {},
   "outputs": [],
   "source": [
    "for file in os.listdir('/opt/ml/input/mmseg/images/train_pseudo'):\n",
    "    if file.split('_')[0] == 'copy':\n",
    "        shutil.move('/opt/ml/input/mmseg/images/train_pseudo/'+file,'/opt/ml/input/data/jpg')"
   ]
  },
  {
   "cell_type": "code",
   "execution_count": 5,
   "metadata": {},
   "outputs": [
    {
     "name": "stdout",
     "output_type": "stream",
     "text": [
      "6052\n"
     ]
    }
   ],
   "source": [
    "print(len(os.listdir('/opt/ml/input/mmseg/images/train_pseudo')))"
   ]
  }
 ],
 "metadata": {
  "interpreter": {
   "hash": "5d0c2b1480244832d7dbf237984b0f05a268e3e22e4477542a885f8374c01bd9"
  },
  "kernelspec": {
   "display_name": "Python 3.10.4 ('open-mmlab')",
   "language": "python",
   "name": "python3"
  },
  "language_info": {
   "codemirror_mode": {
    "name": "ipython",
    "version": 3
   },
   "file_extension": ".py",
   "mimetype": "text/x-python",
   "name": "python",
   "nbconvert_exporter": "python",
   "pygments_lexer": "ipython3",
   "version": "3.10.4"
  },
  "orig_nbformat": 4
 },
 "nbformat": 4,
 "nbformat_minor": 2
}
