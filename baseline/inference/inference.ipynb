{
 "cells": [
  {
   "cell_type": "code",
   "execution_count": 10,
   "id": "21f8472a-3253-400f-b986-6578f197ce3d",
   "metadata": {},
   "outputs": [],
   "source": [
    "import os\n",
    "import mmcv\n",
    "import torch\n",
    "import albumentations as A\n",
    "\n",
    "from mmcv import Config\n",
    "from mmseg.datasets import build_dataloader, build_dataset\n",
    "from mmseg.models import build_segmentor\n",
    "from mmseg.apis import single_gpu_test\n",
    "from mmcv.runner import load_checkpoint\n",
    "from mmcv.parallel import MMDataParallel\n",
    "from pycocotools.coco import COCO\n",
    "import pickle\n",
    "import pandas as pd\n",
    "import numpy as np\n",
    "import json"
   ]
  },
  {
   "cell_type": "code",
   "execution_count": 2,
   "id": "99f0623e-c5a5-4c7f-9bd6-5b47feb17dba",
   "metadata": {},
   "outputs": [],
   "source": [
    "# epoch 지정해주기\n",
    "epoch = 'best_mIoU_epoch_36'\n",
    "# work dir 설정해주기\n",
    "work_dir = '/opt/ml/mmsegmentation/work_dirs/upernet_convnext_xlarge_fp16_640x640_160k_ade20k_pseudo_offline/'\n",
    "\n",
    "# config file 들고오기\n",
    "# config file은 수정해서 사용\n",
    "cfg = Config.fromfile('/opt/ml/mmsegmentation/configs/convnext/upernet_convnext_xlarge_fp16_640x640_160k_ade20k_pseudo_offline.py')\n",
    "root='/opt/ml/input/mmseg/images/test'\n",
    "\n",
    "# dataset config 수정\n",
    "cfg.data.test.img_dir = root\n",
    "# cfg.data.test.pipeline[1]['img_scale'] = (512,512)\n",
    "cfg.data.test.test_mode = True\n",
    "\n",
    "cfg.data.samples_per_gpu = 1\n",
    "cfg.work_dir = work_dir\n",
    "\n",
    "cfg.optimizer_config.grad_clip = dict(max_norm=35, norm_type=2)\n",
    "cfg.model.train_cfg = None"
   ]
  },
  {
   "cell_type": "code",
   "execution_count": 3,
   "id": "90783726-e277-45fb-ace7-41d66eaab1d8",
   "metadata": {},
   "outputs": [
    {
     "name": "stderr",
     "output_type": "stream",
     "text": [
      "2022-05-12 09:10:51,762 - mmseg - INFO - Loaded 624 images\n"
     ]
    }
   ],
   "source": [
    "dataset = build_dataset(cfg.data.test)\n",
    "data_loader = build_dataloader(\n",
    "        dataset,\n",
    "        samples_per_gpu=1,\n",
    "        workers_per_gpu=4,\n",
    "        dist=False,\n",
    "        shuffle=False)"
   ]
  },
  {
   "cell_type": "code",
   "execution_count": 4,
   "id": "08be7fdd-777a-4396-8047-6763c8a35177",
   "metadata": {},
   "outputs": [
    {
     "name": "stderr",
     "output_type": "stream",
     "text": [
      "/opt/ml/mmsegmentation/mmseg/models/losses/cross_entropy_loss.py:232: UserWarning: Default ``avg_non_ignore`` is False, if you would like to ignore the certain label and average loss over non-ignore labels, which is the same with PyTorch official cross_entropy, set ``avg_non_ignore=True``.\n",
      "  warnings.warn(\n"
     ]
    },
    {
     "name": "stdout",
     "output_type": "stream",
     "text": [
      "load checkpoint from local path: /opt/ml/mmsegmentation/work_dirs/upernet_convnext_xlarge_fp16_640x640_160k_ade20k_pseudo_offline/best_mIoU_epoch_36.pth\n"
     ]
    }
   ],
   "source": [
    "# checkpoint path\n",
    "checkpoint_path = os.path.join(cfg.work_dir, f'{epoch}.pth')\n",
    "\n",
    "model = build_segmentor(cfg.model, test_cfg=cfg.get('test_cfg'))\n",
    "checkpoint = load_checkpoint(model, checkpoint_path, map_location='cpu')\n",
    "model.CLASSES = dataset.CLASSES\n",
    "model = MMDataParallel(model.cuda(), device_ids=[0])"
   ]
  },
  {
   "cell_type": "code",
   "execution_count": 5,
   "id": "1506fa80-3d70-447a-8607-b78fdb0926cd",
   "metadata": {},
   "outputs": [
    {
     "name": "stdout",
     "output_type": "stream",
     "text": [
      "[>>>>>>>>>>>>>>>>>>>>>>>>>>>>] 624/624, 0.3 task/s, elapsed: 2344s, ETA:     0s"
     ]
    }
   ],
   "source": [
    "output = single_gpu_test(model, data_loader)"
   ]
  },
  {
   "cell_type": "code",
   "execution_count": 24,
   "id": "a9374654",
   "metadata": {},
   "outputs": [],
   "source": [
    "import pickle\n",
    "\n",
    "out_logit_pkl_path = 'result.pkl'\n",
    "\n",
    "with open(out_logit_pkl_path, 'wb') as pkl_file:\n",
    "    logits_to_pickle = np.stack(output, axis=0)  # ndarray (819, 11, 512, 512)\n",
    "    logits_to_pickle = np.clip(logits_to_pickle * 255., 0., 255.)  # 혹시 몰라서 clamping\n",
    "    logits_to_pickle = logits_to_pickle.astype(np.uint8)\n",
    "    pickle.dump(logits_to_pickle, pkl_file, protocol=4)\n"
   ]
  },
  {
   "cell_type": "code",
   "execution_count": 15,
   "id": "74ff41cf",
   "metadata": {},
   "outputs": [],
   "source": [
    "def load_pkl(pkl_file_path):\n",
    "    with open(pkl_file_path, 'rb') as pkl_file:\n",
    "        logit_uint8 = pickle.load(pkl_file)\n",
    "        \n",
    "    logit_float32 = logit_uint8.astype(dtype=np.float32) / 255.\n",
    "    \n",
    "    return logit_float32"
   ]
  },
  {
   "cell_type": "code",
   "execution_count": 19,
   "id": "189a0630",
   "metadata": {},
   "outputs": [],
   "source": [
    "pkl_file_paths = ['/opt/ml/input/code/pkl/result.pkl','/opt/ml/input/code/pkl/result_ksk.pkl','/opt/ml/input/code/pkl/jyj.pickle','/opt/ml/input/code/pkl/knet_convnext.pkl','/opt/ml/input/code/pkl/ngp_result.pkl']\n",
    "\n",
    "out_csv_file_path = 'final.csv'\n",
    "\n",
    "out_pkl_file_path = '/opt/ml/input/code/pkl/fin.pkl'"
   ]
  },
  {
   "cell_type": "code",
   "execution_count": 20,
   "id": "44ef0051",
   "metadata": {},
   "outputs": [
    {
     "name": "stdout",
     "output_type": "stream",
     "text": [
      "(624, 11, 512, 512)\n",
      "(624, 11, 512, 512)\n",
      "(624, 11, 512, 512)\n",
      "(624, 11, 512, 512)\n",
      "(624, 11, 512, 512)\n"
     ]
    }
   ],
   "source": [
    "logit_list = list()\n",
    "for pkl_file_path in pkl_file_paths:\n",
    "    logit = load_pkl(pkl_file_path)\n",
    "    print(logit.shape)\n",
    "    logit_list.append(logit)\n",
    "    \n",
    "avg_logit = np.average(np.array(logit_list), axis=0)\n",
    "\n",
    "\n",
    "with open(out_pkl_file_path, 'wb') as pkl_file:\n",
    "    logit_to_pickle = np.clip(avg_logit * 255., 0., 255.)  # 혹시 몰라서 clamping\n",
    "    logit_to_pickle = logit_to_pickle.astype(np.uint8)\n",
    "    pickle.dump(logit_to_pickle, pkl_file, protocol=4)\n",
    "\n"
   ]
  },
  {
   "cell_type": "code",
   "execution_count": 21,
   "id": "3e3b65cb",
   "metadata": {},
   "outputs": [],
   "source": [
    "soft_pred = avg_logit.argmax(axis=1)"
   ]
  },
  {
   "cell_type": "code",
   "execution_count": 23,
   "id": "4d64426d",
   "metadata": {},
   "outputs": [
    {
     "name": "stdout",
     "output_type": "stream",
     "text": [
      "loading annotations into memory...\n",
      "Done (t=0.01s)\n",
      "creating index...\n",
      "index created!\n"
     ]
    }
   ],
   "source": [
    "resize_transform = A.Compose([A.Resize(256, 256, 0)])  # cv2.INTER_NEAREST\n",
    "\n",
    "prediction_strings = list()\n",
    "file_names = list()\n",
    "coco = COCO(\"/opt/ml/input/data/test.json\")\n",
    "\n",
    "for i, out in enumerate(list(soft_pred)):\n",
    "    image_info = coco.loadImgs(coco.getImgIds(imgIds=i))[0]\n",
    "    file_names.append(image_info['file_name'])\n",
    "    out_fit_array = resize_transform(image=out)['image']\n",
    "    \n",
    "    prediction_string = ' '.join([str(pixel_pred) for pixel_pred in out_fit_array.flatten().tolist()])\n",
    "    prediction_strings.append(prediction_string)\n",
    "\n",
    "submission = pd.DataFrame()\n",
    "submission['image_id'] = file_names\n",
    "submission['PredictionString'] = prediction_strings\n",
    "submission.to_csv(out_csv_file_path, index=False)"
   ]
  },
  {
   "cell_type": "code",
   "execution_count": 24,
   "id": "3ecc7336",
   "metadata": {},
   "outputs": [
    {
     "data": {
      "text/plain": [
       "<bound method NDFrame.head of                  image_id                                   PredictionString\n",
       "0    batch_01_vt/0021.jpg  0 0 0 0 0 0 0 0 0 0 0 0 0 0 0 0 0 0 0 0 0 0 0 ...\n",
       "1    batch_01_vt/0028.jpg  0 0 0 0 0 0 0 0 0 0 0 0 0 0 0 0 0 0 0 0 0 0 0 ...\n",
       "2    batch_01_vt/0031.jpg  0 0 0 0 0 0 0 0 0 0 0 0 0 0 0 0 0 0 0 0 0 0 0 ...\n",
       "3    batch_01_vt/0032.jpg  0 0 0 0 0 0 0 0 0 0 0 0 0 0 0 0 0 0 0 0 0 0 0 ...\n",
       "4    batch_01_vt/0076.jpg  0 0 0 0 0 0 0 0 0 0 0 0 0 0 0 0 0 0 0 0 0 0 0 ...\n",
       "..                    ...                                                ...\n",
       "619  batch_02_vt/1949.jpg  0 0 0 0 0 0 0 0 0 0 0 0 0 0 0 0 0 0 0 0 0 0 0 ...\n",
       "620  batch_02_vt/1960.jpg  0 0 0 0 0 0 0 0 0 0 0 0 0 0 0 0 0 0 0 0 0 0 0 ...\n",
       "621  batch_02_vt/1974.jpg  0 0 0 0 0 0 0 0 0 0 0 0 0 0 0 0 0 0 0 0 0 0 0 ...\n",
       "622  batch_02_vt/1990.jpg  0 0 0 0 0 0 0 0 0 0 0 0 0 0 0 0 0 0 0 0 0 0 0 ...\n",
       "623  batch_02_vt/2006.jpg  0 0 0 0 0 0 0 0 0 0 0 0 0 0 0 0 0 0 0 0 0 0 0 ...\n",
       "\n",
       "[624 rows x 2 columns]>"
      ]
     },
     "execution_count": 24,
     "metadata": {},
     "output_type": "execute_result"
    }
   ],
   "source": [
    "submission.head"
   ]
  },
  {
   "cell_type": "code",
   "execution_count": 23,
   "id": "0cc020bf-d5b1-4d3c-bf73-fcdc8f3aea18",
   "metadata": {},
   "outputs": [
    {
     "name": "stderr",
     "output_type": "stream",
     "text": [
      "624it [08:41,  1.20it/s]\n"
     ]
    },
    {
     "ename": "KeyboardInterrupt",
     "evalue": "",
     "output_type": "error",
     "traceback": [
      "\u001b[0;31m---------------------------------------------------------------------------\u001b[0m",
      "\u001b[0;31mKeyboardInterrupt\u001b[0m                         Traceback (most recent call last)",
      "\u001b[1;32m/opt/ml/input/code/inference.ipynb Cell 6'\u001b[0m in \u001b[0;36m<cell line: 29>\u001b[0;34m()\u001b[0m\n\u001b[1;32m     <a href='vscode-notebook-cell://ssh-remote%2B101.101.217.13/opt/ml/input/code/inference.ipynb#ch0000006vscode-remote?line=23'>24</a>\u001b[0m     string \u001b[39m=\u001b[39m oms\u001b[39m.\u001b[39mflatten()\n\u001b[1;32m     <a href='vscode-notebook-cell://ssh-remote%2B101.101.217.13/opt/ml/input/code/inference.ipynb#ch0000006vscode-remote?line=24'>25</a>\u001b[0m     submission \u001b[39m=\u001b[39m pd\u001b[39m.\u001b[39mconcat([submission, pd\u001b[39m.\u001b[39mDataFrame([{\u001b[39m\"\u001b[39m\u001b[39mimage_id\u001b[39m\u001b[39m\"\u001b[39m : file_name, \u001b[39m\"\u001b[39m\u001b[39mPredictionString\u001b[39m\u001b[39m\"\u001b[39m : \u001b[39m'\u001b[39m\u001b[39m \u001b[39m\u001b[39m'\u001b[39m\u001b[39m.\u001b[39mjoin(\u001b[39mstr\u001b[39m(e) \u001b[39mfor\u001b[39;00m e \u001b[39min\u001b[39;00m string\u001b[39m.\u001b[39mtolist())}])]\n\u001b[1;32m     <a href='vscode-notebook-cell://ssh-remote%2B101.101.217.13/opt/ml/input/code/inference.ipynb#ch0000006vscode-remote?line=25'>26</a>\u001b[0m                                    , ignore_index\u001b[39m=\u001b[39m\u001b[39mTrue\u001b[39;00m)\n\u001b[0;32m---> <a href='vscode-notebook-cell://ssh-remote%2B101.101.217.13/opt/ml/input/code/inference.ipynb#ch0000006vscode-remote?line=28'>29</a>\u001b[0m submission\u001b[39m.\u001b[39;49mto_csv(os\u001b[39m.\u001b[39;49mpath\u001b[39m.\u001b[39;49mjoin(cfg\u001b[39m.\u001b[39;49mwork_dir, \u001b[39mf\u001b[39;49m\u001b[39m'\u001b[39;49m\u001b[39msubmission_\u001b[39;49m\u001b[39m{\u001b[39;49;00mepoch\u001b[39m}\u001b[39;49;00m\u001b[39m.csv\u001b[39;49m\u001b[39m'\u001b[39;49m), index\u001b[39m=\u001b[39;49m\u001b[39mFalse\u001b[39;49;00m)\n",
      "File \u001b[0;32m/opt/conda/envs/open-mmlab/lib/python3.10/site-packages/pandas/core/generic.py:3466\u001b[0m, in \u001b[0;36mNDFrame.to_csv\u001b[0;34m(self, path_or_buf, sep, na_rep, float_format, columns, header, index, index_label, mode, encoding, compression, quoting, quotechar, line_terminator, chunksize, date_format, doublequote, escapechar, decimal, errors, storage_options)\u001b[0m\n\u001b[1;32m   <a href='file:///opt/conda/envs/open-mmlab/lib/python3.10/site-packages/pandas/core/generic.py?line=3454'>3455</a>\u001b[0m df \u001b[39m=\u001b[39m \u001b[39mself\u001b[39m \u001b[39mif\u001b[39;00m \u001b[39misinstance\u001b[39m(\u001b[39mself\u001b[39m, ABCDataFrame) \u001b[39melse\u001b[39;00m \u001b[39mself\u001b[39m\u001b[39m.\u001b[39mto_frame()\n\u001b[1;32m   <a href='file:///opt/conda/envs/open-mmlab/lib/python3.10/site-packages/pandas/core/generic.py?line=3456'>3457</a>\u001b[0m formatter \u001b[39m=\u001b[39m DataFrameFormatter(\n\u001b[1;32m   <a href='file:///opt/conda/envs/open-mmlab/lib/python3.10/site-packages/pandas/core/generic.py?line=3457'>3458</a>\u001b[0m     frame\u001b[39m=\u001b[39mdf,\n\u001b[1;32m   <a href='file:///opt/conda/envs/open-mmlab/lib/python3.10/site-packages/pandas/core/generic.py?line=3458'>3459</a>\u001b[0m     header\u001b[39m=\u001b[39mheader,\n\u001b[0;32m   (...)\u001b[0m\n\u001b[1;32m   <a href='file:///opt/conda/envs/open-mmlab/lib/python3.10/site-packages/pandas/core/generic.py?line=3462'>3463</a>\u001b[0m     decimal\u001b[39m=\u001b[39mdecimal,\n\u001b[1;32m   <a href='file:///opt/conda/envs/open-mmlab/lib/python3.10/site-packages/pandas/core/generic.py?line=3463'>3464</a>\u001b[0m )\n\u001b[0;32m-> <a href='file:///opt/conda/envs/open-mmlab/lib/python3.10/site-packages/pandas/core/generic.py?line=3465'>3466</a>\u001b[0m \u001b[39mreturn\u001b[39;00m DataFrameRenderer(formatter)\u001b[39m.\u001b[39;49mto_csv(\n\u001b[1;32m   <a href='file:///opt/conda/envs/open-mmlab/lib/python3.10/site-packages/pandas/core/generic.py?line=3466'>3467</a>\u001b[0m     path_or_buf,\n\u001b[1;32m   <a href='file:///opt/conda/envs/open-mmlab/lib/python3.10/site-packages/pandas/core/generic.py?line=3467'>3468</a>\u001b[0m     line_terminator\u001b[39m=\u001b[39;49mline_terminator,\n\u001b[1;32m   <a href='file:///opt/conda/envs/open-mmlab/lib/python3.10/site-packages/pandas/core/generic.py?line=3468'>3469</a>\u001b[0m     sep\u001b[39m=\u001b[39;49msep,\n\u001b[1;32m   <a href='file:///opt/conda/envs/open-mmlab/lib/python3.10/site-packages/pandas/core/generic.py?line=3469'>3470</a>\u001b[0m     encoding\u001b[39m=\u001b[39;49mencoding,\n\u001b[1;32m   <a href='file:///opt/conda/envs/open-mmlab/lib/python3.10/site-packages/pandas/core/generic.py?line=3470'>3471</a>\u001b[0m     errors\u001b[39m=\u001b[39;49merrors,\n\u001b[1;32m   <a href='file:///opt/conda/envs/open-mmlab/lib/python3.10/site-packages/pandas/core/generic.py?line=3471'>3472</a>\u001b[0m     compression\u001b[39m=\u001b[39;49mcompression,\n\u001b[1;32m   <a href='file:///opt/conda/envs/open-mmlab/lib/python3.10/site-packages/pandas/core/generic.py?line=3472'>3473</a>\u001b[0m     quoting\u001b[39m=\u001b[39;49mquoting,\n\u001b[1;32m   <a href='file:///opt/conda/envs/open-mmlab/lib/python3.10/site-packages/pandas/core/generic.py?line=3473'>3474</a>\u001b[0m     columns\u001b[39m=\u001b[39;49mcolumns,\n\u001b[1;32m   <a href='file:///opt/conda/envs/open-mmlab/lib/python3.10/site-packages/pandas/core/generic.py?line=3474'>3475</a>\u001b[0m     index_label\u001b[39m=\u001b[39;49mindex_label,\n\u001b[1;32m   <a href='file:///opt/conda/envs/open-mmlab/lib/python3.10/site-packages/pandas/core/generic.py?line=3475'>3476</a>\u001b[0m     mode\u001b[39m=\u001b[39;49mmode,\n\u001b[1;32m   <a href='file:///opt/conda/envs/open-mmlab/lib/python3.10/site-packages/pandas/core/generic.py?line=3476'>3477</a>\u001b[0m     chunksize\u001b[39m=\u001b[39;49mchunksize,\n\u001b[1;32m   <a href='file:///opt/conda/envs/open-mmlab/lib/python3.10/site-packages/pandas/core/generic.py?line=3477'>3478</a>\u001b[0m     quotechar\u001b[39m=\u001b[39;49mquotechar,\n\u001b[1;32m   <a href='file:///opt/conda/envs/open-mmlab/lib/python3.10/site-packages/pandas/core/generic.py?line=3478'>3479</a>\u001b[0m     date_format\u001b[39m=\u001b[39;49mdate_format,\n\u001b[1;32m   <a href='file:///opt/conda/envs/open-mmlab/lib/python3.10/site-packages/pandas/core/generic.py?line=3479'>3480</a>\u001b[0m     doublequote\u001b[39m=\u001b[39;49mdoublequote,\n\u001b[1;32m   <a href='file:///opt/conda/envs/open-mmlab/lib/python3.10/site-packages/pandas/core/generic.py?line=3480'>3481</a>\u001b[0m     escapechar\u001b[39m=\u001b[39;49mescapechar,\n\u001b[1;32m   <a href='file:///opt/conda/envs/open-mmlab/lib/python3.10/site-packages/pandas/core/generic.py?line=3481'>3482</a>\u001b[0m     storage_options\u001b[39m=\u001b[39;49mstorage_options,\n\u001b[1;32m   <a href='file:///opt/conda/envs/open-mmlab/lib/python3.10/site-packages/pandas/core/generic.py?line=3482'>3483</a>\u001b[0m )\n",
      "File \u001b[0;32m/opt/conda/envs/open-mmlab/lib/python3.10/site-packages/pandas/io/formats/format.py:1105\u001b[0m, in \u001b[0;36mDataFrameRenderer.to_csv\u001b[0;34m(self, path_or_buf, encoding, sep, columns, index_label, mode, compression, quoting, quotechar, line_terminator, chunksize, date_format, doublequote, escapechar, errors, storage_options)\u001b[0m\n\u001b[1;32m   <a href='file:///opt/conda/envs/open-mmlab/lib/python3.10/site-packages/pandas/io/formats/format.py?line=1083'>1084</a>\u001b[0m     created_buffer \u001b[39m=\u001b[39m \u001b[39mFalse\u001b[39;00m\n\u001b[1;32m   <a href='file:///opt/conda/envs/open-mmlab/lib/python3.10/site-packages/pandas/io/formats/format.py?line=1085'>1086</a>\u001b[0m csv_formatter \u001b[39m=\u001b[39m CSVFormatter(\n\u001b[1;32m   <a href='file:///opt/conda/envs/open-mmlab/lib/python3.10/site-packages/pandas/io/formats/format.py?line=1086'>1087</a>\u001b[0m     path_or_buf\u001b[39m=\u001b[39mpath_or_buf,\n\u001b[1;32m   <a href='file:///opt/conda/envs/open-mmlab/lib/python3.10/site-packages/pandas/io/formats/format.py?line=1087'>1088</a>\u001b[0m     line_terminator\u001b[39m=\u001b[39mline_terminator,\n\u001b[0;32m   (...)\u001b[0m\n\u001b[1;32m   <a href='file:///opt/conda/envs/open-mmlab/lib/python3.10/site-packages/pandas/io/formats/format.py?line=1102'>1103</a>\u001b[0m     formatter\u001b[39m=\u001b[39m\u001b[39mself\u001b[39m\u001b[39m.\u001b[39mfmt,\n\u001b[1;32m   <a href='file:///opt/conda/envs/open-mmlab/lib/python3.10/site-packages/pandas/io/formats/format.py?line=1103'>1104</a>\u001b[0m )\n\u001b[0;32m-> <a href='file:///opt/conda/envs/open-mmlab/lib/python3.10/site-packages/pandas/io/formats/format.py?line=1104'>1105</a>\u001b[0m csv_formatter\u001b[39m.\u001b[39;49msave()\n\u001b[1;32m   <a href='file:///opt/conda/envs/open-mmlab/lib/python3.10/site-packages/pandas/io/formats/format.py?line=1106'>1107</a>\u001b[0m \u001b[39mif\u001b[39;00m created_buffer:\n\u001b[1;32m   <a href='file:///opt/conda/envs/open-mmlab/lib/python3.10/site-packages/pandas/io/formats/format.py?line=1107'>1108</a>\u001b[0m     \u001b[39massert\u001b[39;00m \u001b[39misinstance\u001b[39m(path_or_buf, StringIO)\n",
      "File \u001b[0;32m/opt/conda/envs/open-mmlab/lib/python3.10/site-packages/pandas/io/formats/csvs.py:257\u001b[0m, in \u001b[0;36mCSVFormatter.save\u001b[0;34m(self)\u001b[0m\n\u001b[1;32m    <a href='file:///opt/conda/envs/open-mmlab/lib/python3.10/site-packages/pandas/io/formats/csvs.py?line=236'>237</a>\u001b[0m \u001b[39mwith\u001b[39;00m get_handle(\n\u001b[1;32m    <a href='file:///opt/conda/envs/open-mmlab/lib/python3.10/site-packages/pandas/io/formats/csvs.py?line=237'>238</a>\u001b[0m     \u001b[39mself\u001b[39m\u001b[39m.\u001b[39mfilepath_or_buffer,\n\u001b[1;32m    <a href='file:///opt/conda/envs/open-mmlab/lib/python3.10/site-packages/pandas/io/formats/csvs.py?line=238'>239</a>\u001b[0m     \u001b[39mself\u001b[39m\u001b[39m.\u001b[39mmode,\n\u001b[0;32m   (...)\u001b[0m\n\u001b[1;32m    <a href='file:///opt/conda/envs/open-mmlab/lib/python3.10/site-packages/pandas/io/formats/csvs.py?line=244'>245</a>\u001b[0m \n\u001b[1;32m    <a href='file:///opt/conda/envs/open-mmlab/lib/python3.10/site-packages/pandas/io/formats/csvs.py?line=245'>246</a>\u001b[0m     \u001b[39m# Note: self.encoding is irrelevant here\u001b[39;00m\n\u001b[1;32m    <a href='file:///opt/conda/envs/open-mmlab/lib/python3.10/site-packages/pandas/io/formats/csvs.py?line=246'>247</a>\u001b[0m     \u001b[39mself\u001b[39m\u001b[39m.\u001b[39mwriter \u001b[39m=\u001b[39m csvlib\u001b[39m.\u001b[39mwriter(\n\u001b[1;32m    <a href='file:///opt/conda/envs/open-mmlab/lib/python3.10/site-packages/pandas/io/formats/csvs.py?line=247'>248</a>\u001b[0m         handles\u001b[39m.\u001b[39mhandle,  \u001b[39m# type: ignore[arg-type]\u001b[39;00m\n\u001b[1;32m    <a href='file:///opt/conda/envs/open-mmlab/lib/python3.10/site-packages/pandas/io/formats/csvs.py?line=248'>249</a>\u001b[0m         lineterminator\u001b[39m=\u001b[39m\u001b[39mself\u001b[39m\u001b[39m.\u001b[39mline_terminator,\n\u001b[0;32m   (...)\u001b[0m\n\u001b[1;32m    <a href='file:///opt/conda/envs/open-mmlab/lib/python3.10/site-packages/pandas/io/formats/csvs.py?line=253'>254</a>\u001b[0m         quotechar\u001b[39m=\u001b[39m\u001b[39mself\u001b[39m\u001b[39m.\u001b[39mquotechar,\n\u001b[1;32m    <a href='file:///opt/conda/envs/open-mmlab/lib/python3.10/site-packages/pandas/io/formats/csvs.py?line=254'>255</a>\u001b[0m     )\n\u001b[0;32m--> <a href='file:///opt/conda/envs/open-mmlab/lib/python3.10/site-packages/pandas/io/formats/csvs.py?line=256'>257</a>\u001b[0m     \u001b[39mself\u001b[39;49m\u001b[39m.\u001b[39;49m_save()\n",
      "File \u001b[0;32m/opt/conda/envs/open-mmlab/lib/python3.10/site-packages/pandas/io/formats/csvs.py:262\u001b[0m, in \u001b[0;36mCSVFormatter._save\u001b[0;34m(self)\u001b[0m\n\u001b[1;32m    <a href='file:///opt/conda/envs/open-mmlab/lib/python3.10/site-packages/pandas/io/formats/csvs.py?line=259'>260</a>\u001b[0m \u001b[39mif\u001b[39;00m \u001b[39mself\u001b[39m\u001b[39m.\u001b[39m_need_to_save_header:\n\u001b[1;32m    <a href='file:///opt/conda/envs/open-mmlab/lib/python3.10/site-packages/pandas/io/formats/csvs.py?line=260'>261</a>\u001b[0m     \u001b[39mself\u001b[39m\u001b[39m.\u001b[39m_save_header()\n\u001b[0;32m--> <a href='file:///opt/conda/envs/open-mmlab/lib/python3.10/site-packages/pandas/io/formats/csvs.py?line=261'>262</a>\u001b[0m \u001b[39mself\u001b[39;49m\u001b[39m.\u001b[39;49m_save_body()\n",
      "File \u001b[0;32m/opt/conda/envs/open-mmlab/lib/python3.10/site-packages/pandas/io/formats/csvs.py:300\u001b[0m, in \u001b[0;36mCSVFormatter._save_body\u001b[0;34m(self)\u001b[0m\n\u001b[1;32m    <a href='file:///opt/conda/envs/open-mmlab/lib/python3.10/site-packages/pandas/io/formats/csvs.py?line=297'>298</a>\u001b[0m \u001b[39mif\u001b[39;00m start_i \u001b[39m>\u001b[39m\u001b[39m=\u001b[39m end_i:\n\u001b[1;32m    <a href='file:///opt/conda/envs/open-mmlab/lib/python3.10/site-packages/pandas/io/formats/csvs.py?line=298'>299</a>\u001b[0m     \u001b[39mbreak\u001b[39;00m\n\u001b[0;32m--> <a href='file:///opt/conda/envs/open-mmlab/lib/python3.10/site-packages/pandas/io/formats/csvs.py?line=299'>300</a>\u001b[0m \u001b[39mself\u001b[39;49m\u001b[39m.\u001b[39;49m_save_chunk(start_i, end_i)\n",
      "File \u001b[0;32m/opt/conda/envs/open-mmlab/lib/python3.10/site-packages/pandas/io/formats/csvs.py:311\u001b[0m, in \u001b[0;36mCSVFormatter._save_chunk\u001b[0;34m(self, start_i, end_i)\u001b[0m\n\u001b[1;32m    <a href='file:///opt/conda/envs/open-mmlab/lib/python3.10/site-packages/pandas/io/formats/csvs.py?line=307'>308</a>\u001b[0m data \u001b[39m=\u001b[39m [res\u001b[39m.\u001b[39miget_values(i) \u001b[39mfor\u001b[39;00m i \u001b[39min\u001b[39;00m \u001b[39mrange\u001b[39m(\u001b[39mlen\u001b[39m(res\u001b[39m.\u001b[39mitems))]\n\u001b[1;32m    <a href='file:///opt/conda/envs/open-mmlab/lib/python3.10/site-packages/pandas/io/formats/csvs.py?line=309'>310</a>\u001b[0m ix \u001b[39m=\u001b[39m \u001b[39mself\u001b[39m\u001b[39m.\u001b[39mdata_index[slicer]\u001b[39m.\u001b[39m_format_native_types(\u001b[39m*\u001b[39m\u001b[39m*\u001b[39m\u001b[39mself\u001b[39m\u001b[39m.\u001b[39m_number_format)\n\u001b[0;32m--> <a href='file:///opt/conda/envs/open-mmlab/lib/python3.10/site-packages/pandas/io/formats/csvs.py?line=310'>311</a>\u001b[0m libwriters\u001b[39m.\u001b[39;49mwrite_csv_rows(\n\u001b[1;32m    <a href='file:///opt/conda/envs/open-mmlab/lib/python3.10/site-packages/pandas/io/formats/csvs.py?line=311'>312</a>\u001b[0m     data,\n\u001b[1;32m    <a href='file:///opt/conda/envs/open-mmlab/lib/python3.10/site-packages/pandas/io/formats/csvs.py?line=312'>313</a>\u001b[0m     ix,\n\u001b[1;32m    <a href='file:///opt/conda/envs/open-mmlab/lib/python3.10/site-packages/pandas/io/formats/csvs.py?line=313'>314</a>\u001b[0m     \u001b[39mself\u001b[39;49m\u001b[39m.\u001b[39;49mnlevels,\n\u001b[1;32m    <a href='file:///opt/conda/envs/open-mmlab/lib/python3.10/site-packages/pandas/io/formats/csvs.py?line=314'>315</a>\u001b[0m     \u001b[39mself\u001b[39;49m\u001b[39m.\u001b[39;49mcols,\n\u001b[1;32m    <a href='file:///opt/conda/envs/open-mmlab/lib/python3.10/site-packages/pandas/io/formats/csvs.py?line=315'>316</a>\u001b[0m     \u001b[39mself\u001b[39;49m\u001b[39m.\u001b[39;49mwriter,\n\u001b[1;32m    <a href='file:///opt/conda/envs/open-mmlab/lib/python3.10/site-packages/pandas/io/formats/csvs.py?line=316'>317</a>\u001b[0m )\n",
      "File \u001b[0;32m/opt/conda/envs/open-mmlab/lib/python3.10/site-packages/pandas/_libs/writers.pyx:72\u001b[0m, in \u001b[0;36mpandas._libs.writers.write_csv_rows\u001b[0;34m()\u001b[0m\n",
      "\u001b[0;31mKeyboardInterrupt\u001b[0m: "
     ]
    }
   ],
   "source": [
    "from tqdm import tqdm\n",
    "# submission 양식에 맞게 output 후처리\n",
    "input_size = 512\n",
    "output_size = 256\n",
    "\n",
    "submission = pd.read_csv(\"/opt/ml/input/code/submission/sample_submission.csv\", index_col=None)\n",
    "json_dir = os.path.join(\"/opt/ml/input/data/test.json\")\n",
    "\n",
    "with open(json_dir, \"r\", encoding=\"utf8\") as outfile:\n",
    "    datas = json.load(outfile)\n",
    "\n",
    "# PredictionString 대입\n",
    "for image_id, predict in tqdm(enumerate(output)):\n",
    "\n",
    "    image_id = datas[\"images\"][image_id]\n",
    "    file_name = image_id[\"file_name\"]\n",
    "\n",
    "    temp_mask = []\n",
    "    predict = predict.reshape(1, 11, 512, 512)\n",
    "    mask = predict.reshape((1, 11, output_size, input_size//output_size, output_size, input_size//output_size)).max(5).max(3) # resize to 256*256\n",
    "    temp_mask.append(mask)\n",
    "    oms = np.array(temp_mask)\n",
    "    oms = oms.reshape([oms.shape[0], 11, output_size*output_size]).astype(np.float16)\n",
    "    string = oms.flatten()\n",
    "    submission = pd.concat([submission, pd.DataFrame([{\"image_id\" : file_name, \"PredictionString\" : ' '.join(str(e) for e in string.tolist())}])]\n",
    "                                   , ignore_index=True)\n",
    "\n",
    "\n",
    "submission.to_csv(os.path.join(cfg.work_dir, f'submission_{epoch}.csv'), index=False)"
   ]
  }
 ],
 "metadata": {
  "interpreter": {
   "hash": "5d0c2b1480244832d7dbf237984b0f05a268e3e22e4477542a885f8374c01bd9"
  },
  "kernelspec": {
   "display_name": "Python 3.10.4 ('open-mmlab')",
   "language": "python",
   "name": "python3"
  },
  "language_info": {
   "codemirror_mode": {
    "name": "ipython",
    "version": 3
   },
   "file_extension": ".py",
   "mimetype": "text/x-python",
   "name": "python",
   "nbconvert_exporter": "python",
   "pygments_lexer": "ipython3",
   "version": "3.10.4"
  }
 },
 "nbformat": 4,
 "nbformat_minor": 5
}
