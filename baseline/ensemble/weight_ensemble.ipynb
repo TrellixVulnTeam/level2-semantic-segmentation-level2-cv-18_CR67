{
 "cells": [
  {
   "cell_type": "code",
   "execution_count": 4,
   "metadata": {},
   "outputs": [
    {
     "name": "stderr",
     "output_type": "stream",
     "text": [
      "  4%|▍         | 26/624 [00:12<04:50,  2.06it/s]"
     ]
    },
    {
     "name": "stdout",
     "output_type": "stream",
     "text": [
      "['0', '3']\n",
      "26\n"
     ]
    },
    {
     "name": "stderr",
     "output_type": "stream",
     "text": [
      "  9%|▉         | 57/624 [00:27<04:32,  2.08it/s]"
     ]
    },
    {
     "name": "stdout",
     "output_type": "stream",
     "text": [
      "['1', '6']\n",
      "57\n",
      "['1', '6']\n",
      "57\n",
      "['2', '6']\n",
      "57\n",
      "['2', '6']\n",
      "57\n",
      "['2', '6']\n",
      "57\n",
      "['2', '6']\n",
      "57\n",
      "['2', '6']\n",
      "57\n"
     ]
    },
    {
     "name": "stderr",
     "output_type": "stream",
     "text": [
      " 15%|█▌        | 96/624 [00:46<04:12,  2.09it/s]"
     ]
    },
    {
     "name": "stdout",
     "output_type": "stream",
     "text": [
      "['0', '5', '6']\n",
      "95\n",
      "['0', '5', '6']\n",
      "95\n",
      "['0', '5', '6']\n",
      "95\n",
      "['0', '5', '6']\n",
      "95\n"
     ]
    },
    {
     "name": "stderr",
     "output_type": "stream",
     "text": [
      " 27%|██▋       | 166/624 [01:19<03:40,  2.08it/s]"
     ]
    },
    {
     "name": "stdout",
     "output_type": "stream",
     "text": [
      "['0', '8']\n",
      "166\n"
     ]
    },
    {
     "name": "stderr",
     "output_type": "stream",
     "text": [
      " 33%|███▎      | 209/624 [01:40<03:19,  2.08it/s]"
     ]
    },
    {
     "name": "stdout",
     "output_type": "stream",
     "text": [
      "['0', '5', '6']\n",
      "209\n"
     ]
    },
    {
     "name": "stderr",
     "output_type": "stream",
     "text": [
      " 34%|███▍      | 211/624 [01:41<03:18,  2.08it/s]"
     ]
    },
    {
     "name": "stdout",
     "output_type": "stream",
     "text": [
      "['5', '6']\n",
      "211\n",
      "['5', '6']\n",
      "211\n",
      "['2', '6']\n",
      "211\n",
      "['2', '6']\n",
      "211\n",
      "['2', '6']\n",
      "211\n"
     ]
    },
    {
     "name": "stderr",
     "output_type": "stream",
     "text": [
      " 38%|███▊      | 240/624 [01:55<03:05,  2.07it/s]"
     ]
    },
    {
     "name": "stdout",
     "output_type": "stream",
     "text": [
      "['0', '8']\n",
      "240\n"
     ]
    },
    {
     "name": "stderr",
     "output_type": "stream",
     "text": [
      " 42%|████▏     | 259/624 [02:04<02:55,  2.07it/s]"
     ]
    },
    {
     "name": "stdout",
     "output_type": "stream",
     "text": [
      "['4', '6', '8']\n",
      "259\n",
      "['4', '6', '8']\n",
      "259\n",
      "['4', '6', '8']\n",
      "259\n",
      "['4', '6', '8']\n",
      "259\n"
     ]
    },
    {
     "name": "stderr",
     "output_type": "stream",
     "text": [
      " 42%|████▏     | 260/624 [02:05<02:55,  2.08it/s]"
     ]
    },
    {
     "name": "stdout",
     "output_type": "stream",
     "text": [
      "['6', '7', '8']\n",
      "260\n",
      "['6', '7', '8']\n",
      "260\n",
      "['6', '7', '8']\n",
      "260\n"
     ]
    },
    {
     "name": "stderr",
     "output_type": "stream",
     "text": [
      " 42%|████▏     | 265/624 [02:07<02:53,  2.07it/s]"
     ]
    },
    {
     "name": "stdout",
     "output_type": "stream",
     "text": [
      "['5', '8']\n",
      "265\n",
      "['5', '8']\n",
      "265\n"
     ]
    },
    {
     "name": "stderr",
     "output_type": "stream",
     "text": [
      " 45%|████▍     | 278/624 [02:14<02:46,  2.08it/s]"
     ]
    },
    {
     "name": "stdout",
     "output_type": "stream",
     "text": [
      "['0', '8']\n",
      "277\n"
     ]
    },
    {
     "name": "stderr",
     "output_type": "stream",
     "text": [
      " 47%|████▋     | 295/624 [02:22<02:38,  2.07it/s]"
     ]
    },
    {
     "name": "stdout",
     "output_type": "stream",
     "text": [
      "['3', '6', '7']\n",
      "295\n"
     ]
    },
    {
     "name": "stderr",
     "output_type": "stream",
     "text": [
      " 48%|████▊     | 300/624 [02:24<02:35,  2.08it/s]"
     ]
    },
    {
     "name": "stdout",
     "output_type": "stream",
     "text": [
      "['0', '2', '6']\n",
      "299\n",
      "['0', '2', '6']\n",
      "299\n",
      "['6', '8']\n",
      "299\n",
      "['0', '2', '6']\n",
      "299\n",
      "['0', '2', '6']\n",
      "299\n"
     ]
    },
    {
     "name": "stderr",
     "output_type": "stream",
     "text": [
      " 51%|█████     | 316/624 [02:32<02:28,  2.08it/s]"
     ]
    },
    {
     "name": "stdout",
     "output_type": "stream",
     "text": [
      "['2', '6']\n",
      "316\n",
      "['6', '8']\n",
      "316\n",
      "['0', '6']\n",
      "316\n"
     ]
    },
    {
     "name": "stderr",
     "output_type": "stream",
     "text": [
      " 53%|█████▎    | 328/624 [02:38<02:22,  2.08it/s]"
     ]
    },
    {
     "name": "stdout",
     "output_type": "stream",
     "text": [
      "['1', '6']\n",
      "327\n",
      "['1', '6']\n",
      "327\n",
      "['1', '6']\n",
      "327\n",
      "['1', '6']\n",
      "327\n",
      "['1', '6']\n",
      "327\n",
      "['1', '6']\n",
      "327\n",
      "['1', '6']\n",
      "327\n",
      "['1', '6']\n",
      "327\n",
      "['1', '6']\n",
      "327\n",
      "['2', '6']\n",
      "327\n",
      "['1', '6']\n",
      "327\n",
      "['1', '6']\n",
      "327\n",
      "['1', '6']\n",
      "327\n",
      "['1', '6']\n",
      "327\n",
      "['1', '6']\n",
      "327\n",
      "['1', '6']\n",
      "327\n",
      "['1', '6']\n",
      "327\n",
      "['1', '6']\n",
      "327\n",
      "['1', '6']\n",
      "327\n",
      "['1', '6']\n",
      "327\n",
      "['1', '6']\n",
      "327\n",
      "['1', '6']\n",
      "327\n",
      "['1', '6']\n",
      "327\n",
      "['1', '6']\n",
      "327\n",
      "['2', '6']\n",
      "327\n",
      "['1', '6']\n",
      "327\n",
      "['1', '6']\n",
      "327\n",
      "['1', '6']\n",
      "327\n",
      "['1', '6']\n",
      "327\n",
      "['1', '6']\n",
      "327\n",
      "['1', '6']\n",
      "327\n",
      "['1', '6']\n",
      "327\n",
      "['1', '6']\n",
      "327\n",
      "['1', '6']\n",
      "327\n",
      "['1', '6']\n",
      "327\n",
      "['1', '6']\n",
      "327\n",
      "['2', '6']\n",
      "327\n",
      "['2', '6']\n",
      "327\n",
      "['1', '6']\n",
      "327\n",
      "['1', '6']\n",
      "327\n",
      "['1', '6']\n",
      "327\n",
      "['1', '6']\n",
      "327\n",
      "['1', '6']\n",
      "327\n",
      "['1', '6']\n",
      "327\n",
      "['1', '6']\n",
      "327\n",
      "['1', '6']\n",
      "327\n",
      "['1', '6']\n",
      "327\n",
      "['1', '6']\n",
      "327\n",
      "['1', '6']\n",
      "327\n",
      "['1', '6']\n",
      "327\n",
      "['1', '6']\n",
      "327\n",
      "['1', '6']\n",
      "327\n",
      "['1', '6']\n",
      "327\n",
      "['1', '6']\n",
      "327\n",
      "['1', '6']\n",
      "327\n",
      "['2', '6']\n",
      "327\n",
      "['2', '6']\n",
      "327\n",
      "['2', '6']\n",
      "327\n"
     ]
    },
    {
     "name": "stderr",
     "output_type": "stream",
     "text": [
      " 59%|█████▉    | 369/624 [02:57<02:02,  2.08it/s]"
     ]
    },
    {
     "name": "stdout",
     "output_type": "stream",
     "text": [
      "['0', '8']\n",
      "369\n"
     ]
    },
    {
     "name": "stderr",
     "output_type": "stream",
     "text": [
      " 62%|██████▏   | 389/624 [03:07<01:52,  2.09it/s]"
     ]
    },
    {
     "name": "stdout",
     "output_type": "stream",
     "text": [
      "['2', '6']\n",
      "389\n",
      "['2', '6']\n",
      "389\n",
      "['2', '6']\n",
      "389\n",
      "['2', '6']\n",
      "389\n",
      "['2', '6']\n",
      "389\n",
      "['2', '6']\n",
      "389\n",
      "['4', '6']\n",
      "389\n",
      "['4', '6']\n",
      "389\n",
      "['4', '6']\n",
      "389\n"
     ]
    },
    {
     "name": "stderr",
     "output_type": "stream",
     "text": [
      " 65%|██████▌   | 407/624 [03:16<01:44,  2.08it/s]"
     ]
    },
    {
     "name": "stdout",
     "output_type": "stream",
     "text": [
      "['2', '6']\n",
      "407\n",
      "['2', '6']\n",
      "407\n",
      "['2', '6']\n",
      "407\n"
     ]
    },
    {
     "name": "stderr",
     "output_type": "stream",
     "text": [
      " 67%|██████▋   | 415/624 [03:19<01:40,  2.07it/s]"
     ]
    },
    {
     "name": "stdout",
     "output_type": "stream",
     "text": [
      "['0', '5', '6']\n",
      "415\n",
      "['1', '5']\n",
      "415\n",
      "['1', '5']\n",
      "415\n",
      "['1', '5']\n",
      "415\n",
      "['1', '5']\n",
      "415\n",
      "['1', '5']\n",
      "415\n",
      "['0', '5', '6']\n",
      "415\n",
      "['0', '5', '6']\n",
      "415\n",
      "['0', '5', '6']\n",
      "415\n",
      "['0', '5', '6']\n",
      "415\n",
      "['0', '5', '6']\n",
      "415\n"
     ]
    },
    {
     "name": "stderr",
     "output_type": "stream",
     "text": [
      " 70%|███████   | 438/624 [03:31<01:29,  2.08it/s]"
     ]
    },
    {
     "name": "stdout",
     "output_type": "stream",
     "text": [
      "['0', '6']\n",
      "438\n"
     ]
    },
    {
     "name": "stderr",
     "output_type": "stream",
     "text": [
      " 71%|███████   | 442/624 [03:32<01:27,  2.08it/s]"
     ]
    },
    {
     "name": "stdout",
     "output_type": "stream",
     "text": [
      "['1', '6']\n",
      "442\n",
      "['1', '6']\n",
      "442\n",
      "['1', '6']\n",
      "442\n",
      "['1', '6']\n",
      "442\n",
      "['1', '6']\n",
      "442\n",
      "['1', '6']\n",
      "442\n",
      "['1', '6']\n",
      "442\n",
      "['1', '6']\n",
      "442\n",
      "['1', '6']\n",
      "442\n",
      "['1', '6']\n",
      "442\n"
     ]
    },
    {
     "name": "stderr",
     "output_type": "stream",
     "text": [
      " 72%|███████▏  | 447/624 [03:35<01:25,  2.06it/s]"
     ]
    },
    {
     "name": "stdout",
     "output_type": "stream",
     "text": [
      "['0', '2', '6']\n",
      "447\n"
     ]
    },
    {
     "name": "stderr",
     "output_type": "stream",
     "text": [
      " 72%|███████▏  | 448/624 [03:35<01:25,  2.07it/s]"
     ]
    },
    {
     "name": "stdout",
     "output_type": "stream",
     "text": [
      "['6', '8']\n",
      "448\n",
      "['6', '8']\n",
      "448\n",
      "['0', '2']\n",
      "448\n"
     ]
    },
    {
     "name": "stderr",
     "output_type": "stream",
     "text": [
      " 72%|███████▏  | 449/624 [03:36<01:24,  2.06it/s]"
     ]
    },
    {
     "name": "stdout",
     "output_type": "stream",
     "text": [
      "['3', '6']\n",
      "449\n",
      "['3', '6']\n",
      "449\n",
      "['2', '6']\n",
      "449\n",
      "['2', '6']\n",
      "449\n"
     ]
    },
    {
     "name": "stderr",
     "output_type": "stream",
     "text": [
      " 72%|███████▏  | 450/624 [03:36<01:24,  2.07it/s]"
     ]
    },
    {
     "name": "stdout",
     "output_type": "stream",
     "text": [
      "['2', '6']\n",
      "449\n",
      "['2', '6']\n",
      "449\n",
      "['2', '6']\n",
      "449\n",
      "['2', '6']\n",
      "449\n"
     ]
    },
    {
     "name": "stderr",
     "output_type": "stream",
     "text": [
      " 76%|███████▌  | 475/624 [03:48<01:11,  2.07it/s]"
     ]
    },
    {
     "name": "stdout",
     "output_type": "stream",
     "text": [
      "['5', '7']\n",
      "474\n"
     ]
    },
    {
     "name": "stderr",
     "output_type": "stream",
     "text": [
      " 82%|████████▏ | 510/624 [04:05<00:55,  2.07it/s]"
     ]
    },
    {
     "name": "stdout",
     "output_type": "stream",
     "text": [
      "['2', '4', '6']\n",
      "510\n"
     ]
    },
    {
     "name": "stderr",
     "output_type": "stream",
     "text": [
      " 83%|████████▎ | 521/624 [04:11<00:49,  2.06it/s]"
     ]
    },
    {
     "name": "stdout",
     "output_type": "stream",
     "text": [
      "['1', '6']\n",
      "521\n",
      "['0', '2', '6']\n",
      "521\n"
     ]
    },
    {
     "name": "stderr",
     "output_type": "stream",
     "text": [
      " 86%|████████▌ | 536/624 [04:18<00:42,  2.08it/s]"
     ]
    },
    {
     "name": "stdout",
     "output_type": "stream",
     "text": [
      "['4', '8']\n",
      "536\n"
     ]
    },
    {
     "name": "stderr",
     "output_type": "stream",
     "text": [
      " 87%|████████▋ | 541/624 [04:20<00:39,  2.08it/s]"
     ]
    },
    {
     "name": "stdout",
     "output_type": "stream",
     "text": [
      "['0', '3', '6']\n",
      "540\n",
      "['0', '6']\n",
      "541\n"
     ]
    },
    {
     "name": "stderr",
     "output_type": "stream",
     "text": [
      " 89%|████████▊ | 553/624 [04:26<00:34,  2.06it/s]"
     ]
    },
    {
     "name": "stdout",
     "output_type": "stream",
     "text": [
      "['2', '6']\n",
      "552\n",
      "['2', '6']\n",
      "552\n",
      "['2', '6']\n",
      "552\n",
      "['2', '6']\n",
      "552\n",
      "['2', '6']\n",
      "552\n",
      "['2', '6']\n",
      "552\n",
      "['2', '6']\n",
      "552\n",
      "['2', '6']\n",
      "552\n",
      "['2', '6']\n",
      "552\n",
      "['2', '6']\n",
      "552\n",
      "['2', '6']\n",
      "552\n",
      "['2', '6']\n",
      "552\n",
      "['2', '6']\n",
      "552\n",
      "['2', '6']\n",
      "552\n",
      "['2', '6']\n",
      "552\n",
      "['2', '6']\n",
      "552\n",
      "['2', '6']\n",
      "552\n",
      "['2', '6']\n",
      "552\n",
      "['2', '6']\n",
      "552\n"
     ]
    },
    {
     "name": "stderr",
     "output_type": "stream",
     "text": [
      " 90%|█████████ | 562/624 [04:30<00:29,  2.08it/s]"
     ]
    },
    {
     "name": "stdout",
     "output_type": "stream",
     "text": [
      "['0', '5']\n",
      "562\n",
      "['0', '5']\n",
      "562\n"
     ]
    },
    {
     "name": "stderr",
     "output_type": "stream",
     "text": [
      " 91%|█████████ | 568/624 [04:33<00:26,  2.08it/s]"
     ]
    },
    {
     "name": "stdout",
     "output_type": "stream",
     "text": [
      "['5', '6']\n",
      "568\n"
     ]
    },
    {
     "name": "stderr",
     "output_type": "stream",
     "text": [
      " 91%|█████████ | 569/624 [04:34<00:26,  2.07it/s]"
     ]
    },
    {
     "name": "stdout",
     "output_type": "stream",
     "text": [
      "['0', '6', '8']\n",
      "568\n",
      "['0', '6', '8']\n",
      "568\n"
     ]
    },
    {
     "name": "stderr",
     "output_type": "stream",
     "text": [
      " 93%|█████████▎| 583/624 [04:41<00:19,  2.07it/s]"
     ]
    },
    {
     "name": "stdout",
     "output_type": "stream",
     "text": [
      "['0', '2']\n",
      "583\n",
      "['0', '8']\n",
      "583\n"
     ]
    },
    {
     "name": "stderr",
     "output_type": "stream",
     "text": [
      " 99%|█████████▉| 617/624 [04:57<00:03,  2.08it/s]"
     ]
    },
    {
     "name": "stdout",
     "output_type": "stream",
     "text": [
      "['0', '8']\n",
      "617\n"
     ]
    },
    {
     "name": "stderr",
     "output_type": "stream",
     "text": [
      "100%|██████████| 624/624 [05:00<00:00,  2.07it/s]\n"
     ]
    },
    {
     "name": "stdout",
     "output_type": "stream",
     "text": [
      "178\n"
     ]
    }
   ],
   "source": [
    "import pandas as pd\n",
    "from tqdm import tqdm\n",
    "import os\n",
    "\n",
    "# 앙상블할 output.csv 파일들을 한 폴더에 넣어줍니다.\n",
    "# 파일명 앞을 점수로 넣어서 성능이 좋은 순서대로 정렬되도록 했습니다.\n",
    "output_list = os.listdir('./output_csv')\n",
    "output_list.sort(reverse=True)\n",
    "\n",
    "# pandas dataframe으로 만들어줍니다.\n",
    "df_list = []\n",
    "\n",
    "for output in output_list:\n",
    "    df_list.append(pd.read_csv(f'./output_csv/{output}'))\n",
    "\n",
    "# submission dataframe\n",
    "submission = pd.DataFrame()\n",
    "submission['image_id'] = df_list[0]['image_id']\n",
    "\n",
    "# pixel-wise hard voting 진행\n",
    "PredictionString = []\n",
    "cnt = 0\n",
    "\n",
    "for idx in tqdm(range(len(df_list[0]))):\n",
    "    # 각 모델이 뽑은 pixel 넣을 리스트\n",
    "    pixel_list = []\n",
    "    \n",
    "    for i in range(len(df_list)):\n",
    "        pixel_list.append(df_list[i]['PredictionString'][idx].split(' '))\n",
    "    result = ''\n",
    "\n",
    "    for i in range(len(pixel_list[0])):\n",
    "        pixel_count = {'0' : 0, '1' : 0, '2' : 0, \n",
    "                      '3' : 0, '4' : 0, '5' : 0,\n",
    "                      '6' : 0, '7' : 0, '8' : 0,\n",
    "                      '9' : 0, '10' : 0}\n",
    "        \n",
    "        # 각 모델이 뽑은 pixel count\n",
    "        for j in range(len(pixel_list)): # 1,2,3\n",
    "            if j == 2: # 0.8156 \n",
    "                if pixel_list[j][i] in ['0','1','2','3','4','7','8','10']:\n",
    "                    pixel_count[pixel_list[j][i]] += 100\n",
    "                elif pixel_list[j][i] == '5':\n",
    "                    pixel_count[pixel_list[j][i]] += 2\n",
    "                else:\n",
    "                    pixel_count[pixel_list[j][i]] += 1\n",
    "            elif j == 1: # 0.8171\n",
    "                if pixel_list[j][i] == '6':\n",
    "                    pixel_count[pixel_list[j][i]] += 100\n",
    "                elif pixel_list[j][i] in ['0','4','7','9']:\n",
    "                    pixel_count[pixel_list[j][i]] += 2\n",
    "                else:\n",
    "                    pixel_count[pixel_list[j][i]] += 1\n",
    "            elif j == 0: # 0.8179\n",
    "                if pixel_list[j][i] in ['5','9']:\n",
    "                    pixel_count[pixel_list[j][i]] += 100\n",
    "                elif pixel_list[j][i] in ['1','2','3','6','8','10']:\n",
    "                    pixel_count[pixel_list[j][i]] += 2\n",
    "                else:\n",
    "                    pixel_count[pixel_list[j][i]] += 1\n",
    "        \n",
    "        # 제일 많이 vote된 pixel 값\n",
    "        voted_pixel = [key for key, value in pixel_count.items() if value == max(pixel_count.values())]\n",
    "\n",
    "        # voted_pixel이 1개인 경우\n",
    "        if len(voted_pixel) == 1:\n",
    "            result += voted_pixel[0] + ' '\n",
    "        # 동점이 나온 경우\n",
    "        else:\n",
    "            # 성능이 좋았던 모델부터 값이 voted_pixel에 있다면 result로 고르기\n",
    "            cnt += 1\n",
    "            print(voted_pixel)\n",
    "            print(idx)\n",
    "            for j in range(len(pixel_list)):\n",
    "                pixel_candidate = pixel_list[j][i]\n",
    "\n",
    "                if pixel_candidate in voted_pixel:\n",
    "                    result += pixel_candidate + ' '\n",
    "                    break\n",
    "    \n",
    "    # 마지막 공백 제거\n",
    "    result = result[:-1]\n",
    "    PredictionString.append(result)\n",
    "\n",
    "# submission csv 만들기\n",
    "submission['PredictionString'] = PredictionString\n",
    "submission.to_csv('./hard_voted_output.csv', index=False)\n",
    "print(cnt)"
   ]
  },
  {
   "cell_type": "code",
   "execution_count": 28,
   "metadata": {},
   "outputs": [
    {
     "name": "stdout",
     "output_type": "stream",
     "text": [
      "yes\n"
     ]
    }
   ],
   "source": [
    "if pixel_list[0][0] in ['0','1','2','3','4','5','6','7','8','9']:\n",
    "    print('yes')"
   ]
  }
 ],
 "metadata": {
  "interpreter": {
   "hash": "5d0c2b1480244832d7dbf237984b0f05a268e3e22e4477542a885f8374c01bd9"
  },
  "kernelspec": {
   "display_name": "Python 3 (ipykernel)",
   "language": "python",
   "name": "python3"
  },
  "language_info": {
   "codemirror_mode": {
    "name": "ipython",
    "version": 3
   },
   "file_extension": ".py",
   "mimetype": "text/x-python",
   "name": "python",
   "nbconvert_exporter": "python",
   "pygments_lexer": "ipython3",
   "version": "3.10.4"
  }
 },
 "nbformat": 4,
 "nbformat_minor": 4
}
