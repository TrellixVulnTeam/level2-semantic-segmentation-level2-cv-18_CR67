{
 "cells": [
  {
   "cell_type": "code",
   "execution_count": 11,
   "metadata": {},
   "outputs": [],
   "source": [
    "import pandas as pd\n",
    "import numpy as np\n",
    "import shutil\n",
    "import os\n",
    "from PIL import Image"
   ]
  },
  {
   "cell_type": "markdown",
   "metadata": {},
   "source": [
    "# Annotation 폴더 복사"
   ]
  },
  {
   "cell_type": "code",
   "execution_count": null,
   "metadata": {},
   "outputs": [],
   "source": [
    "shutil.copytree('/opt/ml/input/mmseg/annotations/train','/opt/ml/input/mmseg/annotations/train_pseudo')\n",
    "\n",
    "for f in os.listdir('/opt/ml/input/mmseg/annotations/train_pseudo'):\n",
    "    print(f)"
   ]
  },
  {
   "cell_type": "markdown",
   "metadata": {},
   "source": [
    "# Image 폴더 복사"
   ]
  },
  {
   "cell_type": "code",
   "execution_count": null,
   "metadata": {},
   "outputs": [],
   "source": [
    "shutil.copytree('/opt/ml/input/mmseg/images/train','/opt/ml/input/mmseg/images/train_pseudo')\n",
    "\n",
    "for f in os.listdir('/opt/ml/input/mmseg/annotations/train_pseudo'):\n",
    "    print(f)"
   ]
  },
  {
   "cell_type": "code",
   "execution_count": 14,
   "metadata": {},
   "outputs": [],
   "source": [
    "df = pd.read_csv('/opt/ml/mmsegmentation/work_dirs/upernet_convnext_xlarge_fp16_640x640_160k_ade20k_pseudo_offline/submission_best_mIoU_epoch_36.csv') # 가장 예측이 잘 된 csv를 넣습니다.\n",
    "data_path = '/opt/ml/input/data'\n",
    "\n",
    "img_path = '/opt/ml/input/mmseg/images/train/'\n",
    "annotation_path = '/opt/ml/input/mmseg/annotations/train/'\n",
    "\n",
    "#print(len(os.listdir(img_path)))\n",
    "#print(len(os.listdir(annotation_path)))\n",
    "\n",
    "new_img_id = 2617 # 새로운 image,annotation의 시작 번호"
   ]
  },
  {
   "cell_type": "code",
   "execution_count": null,
   "metadata": {},
   "outputs": [],
   "source": [
    "for i in range(len(df)):\n",
    "    img = os.path.join(data_path,df.iloc[i,:]['image_id']) # csv 파일의 image 이름\n",
    "    new_img = os.path.join('/opt/ml/input/mmseg/images/train_pseudo',str(new_img_id+i).zfill(4)+'.jpg') # pseudo_train에 저장될 image 이름.\n",
    "    shutil.copyfile(img,new_img) # 파일을 복사하여 new_img의 이름으로 pseudo_trian에 저장합니다.\n",
    "\n",
    "    arr = np.array(df.iloc[i,:]['PredictionString'].split()).reshape(256,256) # 256 사이즈에 맞게 정렬합니다.\n",
    "    mask = Image.fromarray(np.uint8(arr)) # numpy 형태를 image 형태로 변환합니다.\n",
    "    mask = mask.resize((512,512),Image.LANCZOS) # 512,512 사이즈가 train 사이즈 이므로 변환시킵니다. LANCZOS가 품질이 제일 좋다네요.\n",
    "    new_annotation = os.path.join('/opt/ml/input/mmseg/annotations/train_pseudo',str(new_img_id+i).zfill(4)+'.png') # psseudo_train에 저장될 annotation 이름.\n",
    "    mask.save(new_annotation) # 파일을 복사하여 pseudo_train에 저장합니다."
   ]
  },
  {
   "cell_type": "code",
   "execution_count": 18,
   "metadata": {},
   "outputs": [
    {
     "name": "stdout",
     "output_type": "stream",
     "text": [
      "6052\n"
     ]
    }
   ],
   "source": [
    "train_pseudo_path = '/opt/ml/input/mmseg/annotations/train_pseudo'\n",
    "\n",
    "print(len(os.listdir(train_pseudo_path)))"
   ]
  }
 ],
 "metadata": {
  "interpreter": {
   "hash": "5d0c2b1480244832d7dbf237984b0f05a268e3e22e4477542a885f8374c01bd9"
  },
  "kernelspec": {
   "display_name": "Python 3.10.4 ('open-mmlab')",
   "language": "python",
   "name": "python3"
  },
  "language_info": {
   "codemirror_mode": {
    "name": "ipython",
    "version": 3
   },
   "file_extension": ".py",
   "mimetype": "text/x-python",
   "name": "python",
   "nbconvert_exporter": "python",
   "pygments_lexer": "ipython3",
   "version": "3.10.4"
  },
  "orig_nbformat": 4
 },
 "nbformat": 4,
 "nbformat_minor": 2
}
