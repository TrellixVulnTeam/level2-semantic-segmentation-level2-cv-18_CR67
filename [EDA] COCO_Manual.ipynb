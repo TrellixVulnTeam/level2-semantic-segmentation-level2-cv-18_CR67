{
 "cells": [
  {
   "cell_type": "markdown",
   "metadata": {},
   "source": [
    "<strong> <h3> 1. Coco Data Format </h3> </strong>\n",
    "\n",
    "Detection, Segmentation 등의 task를 위해서는 bounding box, mask 등 필요한 정보가 많다. <br>\n",
    "따라서 해당 정보를 json 형태로 제공해야 한다. <br>\n",
    "\n",
    "Json 파일은 Info, Licences, Images, Categories, Annotations 총 5개의 정보(key)로 이루어진다. <br> \n",
    "우리는 주로 Images와 Annotations 정보를 사용하며 해당 정보들은 흩어져 있기 때문에 두 정보를 잘 조합하여 사용해야 한다. <br>\n",
    "예를 들어, 데이터 EDA, 시각화를 위해서는 한 이미지에 속하는 모든 Annotation을 불러오면 편할 것이다. <br>\n",
    "이러한 작업을 수월하게 해주는 API가 바로 Pycocotools이다.\n",
    "\n",
    "Coco Dataset에 대해 Pycocotools를 이용하기 위해서는 다음과 같은 명령을 사용한다."
   ]
  },
  {
   "cell_type": "code",
   "execution_count": 2,
   "metadata": {},
   "outputs": [
    {
     "name": "stdout",
     "output_type": "stream",
     "text": [
      "loading annotations into memory...\n",
      "Done (t=3.64s)\n",
      "creating index...\n",
      "index created!\n"
     ]
    }
   ],
   "source": [
    "from pycocotools.coco import COCO\n",
    "coco = COCO('../data/train.json')   # 파일의 경로를 입력값으로 주면 불러올 수 있다.   "
   ]
  },
  {
   "cell_type": "markdown",
   "metadata": {},
   "source": [
    "<strong> <h3> 2. Coco Functions </h3> <strong>"
   ]
  },
  {
   "cell_type": "markdown",
   "metadata": {},
   "source": [
    "<strong> 1. coco.getImgIds </strong>\n",
    "\n",
    "imgIds에 이미지들의 id를 넘겨주면 image들의 id를 리스트 형태로 반환한다.\n"
   ]
  },
  {
   "cell_type": "code",
   "execution_count": 20,
   "metadata": {},
   "outputs": [
    {
     "name": "stdout",
     "output_type": "stream",
     "text": [
      "[0]\n",
      "[0, 1]\n"
     ]
    }
   ],
   "source": [
    "image_id = coco.getImgIds(imgIds=0)\n",
    "print(image_id) # 결과 [0]\n",
    "image_id = coco.getImgIds(imgIds=[0, 1])\n",
    "print(image_id) # 결과 [0, 1]"
   ]
  },
  {
   "cell_type": "markdown",
   "metadata": {},
   "source": [
    "<strong> 2. coco.loadImgs </strong>\n",
    "\n",
    "위에서 얻은 이미지들의 id를 전달해주면 이미지들의 정보를 불러온다. <br>\n",
    "즉, 'images'안에 해당 id를 가진 image의 모든 정보를 불러온다. <br>\n",
    "각 id가 가진 인덱스와 동일하게 dict 타입의 정보가 들어가 있으므로 아래처럼 인덱스를 지정해 접근해야 한다."
   ]
  },
  {
   "cell_type": "code",
   "execution_count": 23,
   "metadata": {},
   "outputs": [
    {
     "name": "stdout",
     "output_type": "stream",
     "text": [
      "{'license': 0, 'url': None, 'file_name': 'batch_01_vt/0003.jpg', 'height': 512, 'width': 512, 'date_captured': None, 'id': 0}\n"
     ]
    }
   ],
   "source": [
    "image_id = coco.getImgIds(imgIds=[0, 1])\n",
    "image_infos = coco.loadImgs(image_id)[0]\n",
    "print(image_infos) # 결과: {'license': 0, 'url': None, 'file_name': 'batch_01_vt/0003.jpg', 'height': 512, 'width': 512, 'date_captured': None, 'id': 0}"
   ]
  },
  {
   "cell_type": "markdown",
   "metadata": {},
   "source": [
    "<strong> 3. coco.getAnnIds </strong>\n",
    "\n",
    "imgIds인자에 이미지에 맞는 id를 넘겨주면 해당 이미지에 속하는 모든 annotation의 Index들을 가져올 수 있다."
   ]
  },
  {
   "cell_type": "code",
   "execution_count": 4,
   "metadata": {},
   "outputs": [
    {
     "name": "stdout",
     "output_type": "stream",
     "text": [
      "[0, 1, 2, 3, 4, 5, 6, 7, 8, 9, 10, 11, 12, 13]\n"
     ]
    }
   ],
   "source": [
    "ann_ids = coco.getAnnIds(imgIds=0)\n",
    "print(ann_ids) # 결과(imgIds): [0, 1, 2, 3, 4, 5, 6, 7, 8, 9, 10, 11, 12, 13]"
   ]
  },
  {
   "cell_type": "markdown",
   "metadata": {},
   "source": [
    "<strong> 4. coco.getAnnIds </strong>\n",
    "\n",
    "loadAnns에 위에서 얻은 annotation의 인덱스들을 넘겨주면 모든 annotation을 가져온다. (각각의 type은 dict이다.)\n"
   ]
  },
  {
   "cell_type": "code",
   "execution_count": 6,
   "metadata": {},
   "outputs": [],
   "source": [
    "anns = coco.loadAnns(ann_ids)\n",
    "print(anns)"
   ]
  },
  {
   "cell_type": "markdown",
   "metadata": {},
   "source": [
    "<strong> 5. coco.getCatIds </strong>\n",
    "\n",
    "catIds인자에 전달된 Category들의 id를 가져온다."
   ]
  },
  {
   "cell_type": "code",
   "execution_count": 24,
   "metadata": {},
   "outputs": [
    {
     "name": "stdout",
     "output_type": "stream",
     "text": [
      "[1, 2, 3, 4, 5, 6, 7, 8, 9, 10]\n",
      "[1, 5, 6]\n"
     ]
    }
   ],
   "source": [
    "cat_ids = coco.getCatIds()\n",
    "print(cat_ids) # 결과: [1, 2, 3, 4, 5, 6, 7, 8, 9, 10]\n",
    "cat_ids = coco.getCatIds(catIds=[1, 5, 6])\n",
    "print(cat_ids) # 결과: [1, 5, 6]"
   ]
  },
  {
   "cell_type": "markdown",
   "metadata": {},
   "source": [
    "<strong> 6. coco.loadCats </strong>\n",
    "\n",
    "넘겨진 id에 맞는 Category들의 정보를 가져온다."
   ]
  },
  {
   "cell_type": "code",
   "execution_count": 10,
   "metadata": {},
   "outputs": [],
   "source": [
    "cats = coco.loadCats(cat_ids)\n",
    "print(cats)"
   ]
  }
 ],
 "metadata": {
  "interpreter": {
   "hash": "d4d1e4263499bec80672ea0156c357c1ee493ec2b1c70f0acce89fc37c4a6abe"
  },
  "kernelspec": {
   "display_name": "Python 3.8.5 ('base')",
   "language": "python",
   "name": "python3"
  },
  "language_info": {
   "codemirror_mode": {
    "name": "ipython",
    "version": 3
   },
   "file_extension": ".py",
   "mimetype": "text/x-python",
   "name": "python",
   "nbconvert_exporter": "python",
   "pygments_lexer": "ipython3",
   "version": "3.8.5"
  },
  "orig_nbformat": 4
 },
 "nbformat": 4,
 "nbformat_minor": 2
}
