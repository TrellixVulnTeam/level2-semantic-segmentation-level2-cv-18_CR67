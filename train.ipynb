{
 "cells": [
  {
   "cell_type": "code",
   "execution_count": 1,
   "metadata": {},
   "outputs": [],
   "source": [
    "# import wandb\n",
    "from mmcv import Config\n",
    "from mmseg.datasets import build_dataset\n",
    "\n",
    "from mmseg.models import build_segmentor\n",
    "from mmseg.apis import train_segmentor\n",
    "from mmseg.datasets import (build_dataloader, build_dataset)\n",
    "import mmcv"
   ]
  },
  {
   "cell_type": "code",
   "execution_count": 2,
   "metadata": {},
   "outputs": [],
   "source": [
    "from mmseg.datasets.builder import DATASETS\n",
    "from mmseg.datasets.custom import CustomDataset\n",
    "import os.path as osp\n",
    "import numpy as np\n",
    "from PIL import Image\n",
    "import os\n",
    "from mmseg.apis import set_random_seed\n",
    "\n",
    "data_root = '/opt/ml/input/last'\n",
    "classes = ('Background','General trash', 'Paper', 'Paper pack', 'Metal', 'Glass', 'Plastic', 'Styrofoam', 'Plastic bag', 'Battery', 'Clothing')\n",
    "palette = [[0,0,0],[192,0,128],[0,128,192],[0,128,64],[128,0,0],[64,0,128],[64,0,192],[192,128,64],[192,192,128],[64,64,128],[128,0,192]]"
   ]
  },
  {
   "cell_type": "code",
   "execution_count": 3,
   "metadata": {},
   "outputs": [],
   "source": [
    "# model 이름\n",
    "model_path = './mmsegmentation/deeplab3/configs/_boost_/train_model'\n",
    "model_name = 'deeplabv3_m-v2-d8_512x1024_80k_cityscapes.py'\n",
    "cfg = Config.fromfile(os.path.join(model_path,model_name))"
   ]
  },
  {
   "cell_type": "code",
   "execution_count": 4,
   "metadata": {},
   "outputs": [],
   "source": [
    "# cfg.norm_cfg = dict(type='BN', requires_grad=True)\n",
    "# cfg.model.backbone.norm_cfg = cfg.norm_cfg\n",
    "# cfg.model.decode_head.norm_cfg = cfg.norm_cfg\n",
    "# # cfg.model.neck.norm_cfg = cfg.norm_cfg\n",
    "# cfg.model.auxiliary_head.norm_cfg = cfg.norm_cfg\n",
    "# # cfg.model.decode_head.num_classes = 11\n",
    "# # cfg.model.auxiliary_head.num_classes = 11\n",
    "\n",
    "# # data root\n",
    "# cfg.data_root = data_root\n",
    "\n",
    "# batch size\n",
    "cfg.data.samples_per_gpu = 6\n",
    "cfg.data.workers_per_gpu=8\n",
    "\n",
    "# # cfg.data.train.data_root = cfg.data_root\n",
    "# # cfg.data.train.img_dir = 'images'\n",
    "# # cfg.data.train.ann_dir = 'annotations'\n",
    "# # cfg.data.train.split = data_root+'/splits/train.txt'\n",
    "\n",
    "\n",
    "# cfg.data.val.data_root = cfg.data_root\n",
    "# cfg.data.val.img_dir = 'images'\n",
    "# cfg.data.val.ann_dir = 'annotations'\n",
    "# cfg.data.val.split = data_root+'/splits/valid.txt'\n",
    "\n",
    "\n",
    "# # where checkpoints saved\n",
    "cfg.work_dir = './work_dirs/deeplab3'\n",
    "\n",
    "cfg.runner.max_epochs = 10 # max epoch\n",
    "\n",
    "cfg.log_config.interval = 200 # train 정보 출력 간격\n",
    "cfg.optimizer_config.grad_clip = dict(max_norm=35, norm_type=2)\n",
    "cfg.checkpoint_config = dict(max_keep_ckpts=6, interval=2) # max_keep_ckpts : pht 파일 최대 저장 갯수 , interval : pth 저장 간격\n",
    "# cfg.optimizer_config= dict(type='Fp16OptimizerHook', loss_scale='dynamic',grad_clip = dict(max_norm=35, norm_type=2))\n",
    "# # Set seed to facitate reproducing the result\n",
    "cfg.seed = 21\n",
    "# set_random_seed(0, deterministic=False)\n",
    "cfg.gpu_ids = [0]\n"
   ]
  },
  {
   "cell_type": "code",
   "execution_count": 5,
   "metadata": {},
   "outputs": [
    {
     "name": "stderr",
     "output_type": "stream",
     "text": [
      "2022-05-11 19:52:16,221 - mmseg - INFO - Loaded 4417 images\n"
     ]
    }
   ],
   "source": [
    "datasets = build_dataset(cfg.data.train)\n"
   ]
  },
  {
   "cell_type": "code",
   "execution_count": 6,
   "metadata": {},
   "outputs": [],
   "source": [
    "model = build_segmentor(cfg.model)\n",
    "model.init_weights()"
   ]
  },
  {
   "cell_type": "code",
   "execution_count": null,
   "metadata": {},
   "outputs": [],
   "source": [
    "train_segmentor(model, datasets, cfg, distributed=False, validate=False,meta=dict())\n",
    "# 모델 학습\n"
   ]
  },
  {
   "cell_type": "code",
   "execution_count": null,
   "metadata": {},
   "outputs": [],
   "source": []
  }
 ],
 "metadata": {
  "interpreter": {
   "hash": "d4d1e4263499bec80672ea0156c357c1ee493ec2b1c70f0acce89fc37c4a6abe"
  },
  "kernelspec": {
   "display_name": "Python 3.8.5 ('base')",
   "language": "python",
   "name": "python3"
  },
  "language_info": {
   "codemirror_mode": {
    "name": "ipython",
    "version": 3
   },
   "file_extension": ".py",
   "mimetype": "text/x-python",
   "name": "python",
   "nbconvert_exporter": "python",
   "pygments_lexer": "ipython3",
   "version": "3.8.5"
  },
  "orig_nbformat": 4
 },
 "nbformat": 4,
 "nbformat_minor": 2
}
