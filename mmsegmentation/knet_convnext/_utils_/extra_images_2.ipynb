{
 "cells": [
  {
   "cell_type": "code",
   "execution_count": 101,
   "id": "1ad11a10-f02d-430f-80a4-b4e2436623fe",
   "metadata": {},
   "outputs": [],
   "source": [
    "import os\n",
    "import random\n",
    "import time\n",
    "import json\n",
    "import warnings \n",
    "warnings.filterwarnings('ignore')\n",
    "import shutil\n",
    "\n",
    "import torch\n",
    "import torch.nn as nn\n",
    "from torch.utils.data import Dataset, DataLoader\n",
    "import cv2\n",
    "\n",
    "import numpy as np\n",
    "import pandas as pd\n",
    "from tqdm import tqdm\n",
    "\n",
    "# 전처리를 위한 라이브러리\n",
    "from pycocotools.coco import COCO\n",
    "import torchvision\n",
    "import torchvision.transforms as transforms\n",
    "\n",
    "#!pip install albumentations==0.4.6\n",
    "import albumentations as A\n",
    "from albumentations.pytorch import ToTensorV2"
   ]
  },
  {
   "cell_type": "code",
   "execution_count": 102,
   "id": "85cfcd2f-a8b0-4d5f-a5c1-99c49579b0f4",
   "metadata": {},
   "outputs": [],
   "source": [
    "# seed 고정\n",
    "random_seed = 21\n",
    "torch.manual_seed(random_seed)\n",
    "torch.cuda.manual_seed(random_seed)\n",
    "torch.cuda.manual_seed_all(random_seed) # if use multi-GPU\n",
    "torch.backends.cudnn.deterministic = True\n",
    "torch.backends.cudnn.benchmark = False\n",
    "np.random.seed(random_seed)\n",
    "random.seed(random_seed)"
   ]
  },
  {
   "cell_type": "code",
   "execution_count": 103,
   "id": "b2d1227c-2de0-4a30-b3b4-f14e0d043e96",
   "metadata": {},
   "outputs": [
    {
     "name": "stdout",
     "output_type": "stream",
     "text": [
      "Number of super categories: 10\n",
      "Number of categories: 10\n",
      "Number of annotations: 26240\n",
      "Number of images: 3272\n"
     ]
    }
   ],
   "source": [
    "%matplotlib inline\n",
    "\n",
    "dataset_path  = '/opt/ml/input/data'\n",
    "anns_file_path = dataset_path + '/' + 'train_all.json'\n",
    "\n",
    "# Read annotations\n",
    "with open(anns_file_path, 'r') as f:\n",
    "    dataset = json.loads(f.read())\n",
    "\n",
    "categories = dataset['categories']\n",
    "anns = dataset['annotations']\n",
    "imgs = dataset['images']\n",
    "nr_cats = len(categories)\n",
    "nr_annotations = len(anns)\n",
    "nr_images = len(imgs)\n",
    "\n",
    "# Load categories and super categories\n",
    "cat_names = []\n",
    "super_cat_names = []\n",
    "super_cat_ids = {}\n",
    "super_cat_last_name = ''\n",
    "nr_super_cats = 0\n",
    "for cat_it in categories:\n",
    "    cat_names.append(cat_it['name'])\n",
    "    super_cat_name = cat_it['supercategory']\n",
    "    # Adding new supercat\n",
    "    if super_cat_name != super_cat_last_name:\n",
    "        super_cat_names.append(super_cat_name)\n",
    "        super_cat_ids[super_cat_name] = nr_super_cats\n",
    "        super_cat_last_name = super_cat_name\n",
    "        nr_super_cats += 1\n",
    "\n",
    "print('Number of super categories:', nr_super_cats)\n",
    "print('Number of categories:', nr_cats)\n",
    "print('Number of annotations:', nr_annotations)\n",
    "print('Number of images:', nr_images)"
   ]
  },
  {
   "cell_type": "code",
   "execution_count": 104,
   "id": "71777ced-b72c-480c-b8dc-03005fefbfda",
   "metadata": {},
   "outputs": [],
   "source": [
    "# Count annotations\n",
    "cat_histogram = np.zeros(nr_cats,dtype=int)\n",
    "for ann in anns:\n",
    "    cat_histogram[ann['category_id']-1] += 1\n",
    "\n",
    "\n",
    "# Convert to DataFrame\n",
    "df = pd.DataFrame({'Categories': cat_names, 'Number of annotations': cat_histogram})\n",
    "df = df.sort_values('Number of annotations', 0, False)"
   ]
  },
  {
   "cell_type": "code",
   "execution_count": 105,
   "id": "5abb9dec-6201-463f-858c-1b5befdb8c1a",
   "metadata": {},
   "outputs": [],
   "source": [
    "# category labeling \n",
    "sorted_temp_df = df.sort_index()\n",
    "\n",
    "# background = 0 에 해당되는 label 추가 후 기존들을 모두 label + 1 로 설정\n",
    "sorted_df = pd.DataFrame([\"Backgroud\"], columns = [\"Categories\"])\n",
    "sorted_df = sorted_df.append(sorted_temp_df, ignore_index=True)"
   ]
  },
  {
   "cell_type": "code",
   "execution_count": 106,
   "id": "89f8c789-c534-42d6-b17f-aa70f6d8f908",
   "metadata": {},
   "outputs": [],
   "source": [
    "category_names = list(sorted_df.Categories)\n",
    "\n",
    "def get_classname(classID, cats):\n",
    "    for i in range(len(cats)):\n",
    "        if cats[i]['id']==classID:\n",
    "            return cats[i]['name']\n",
    "    return \"None\"\n",
    "\n",
    "class CustomDataLoader(Dataset):\n",
    "    \"\"\"COCO format\"\"\"\n",
    "    def __init__(self, data_dir, mode = 'train', transform = None):\n",
    "        super().__init__()\n",
    "        self.mode = mode\n",
    "        self.transform = transform\n",
    "        self.coco = COCO(data_dir)\n",
    "        \n",
    "    def __getitem__(self, index: int):\n",
    "        # dataset이 index되어 list처럼 동작\n",
    "        image_id = self.coco.getImgIds()[index]\n",
    "        # image_id = self.coco.getImgIds(imgIds=index)\n",
    "        image_infos = self.coco.loadImgs(image_id)[0]\n",
    "        \n",
    "        # cv2 를 활용하여 image 불러오기\n",
    "        images = cv2.imread(os.path.join(dataset_path, image_infos['file_name']))\n",
    "        images = cv2.cvtColor(images, cv2.COLOR_BGR2RGB).astype(np.float32)\n",
    "        images /= 255.0\n",
    "        \n",
    "        if (self.mode in ('train', 'val')):\n",
    "            ann_ids = self.coco.getAnnIds(imgIds=image_infos['id'])\n",
    "            anns = self.coco.loadAnns(ann_ids)\n",
    "\n",
    "            # Load the categories in a variable\n",
    "            cat_ids = self.coco.getCatIds()\n",
    "            cats = self.coco.loadCats(cat_ids)\n",
    "\n",
    "            # masks : size가 (height x width)인 2D\n",
    "            # 각각의 pixel 값에는 \"category id\" 할당\n",
    "            # Background = 0\n",
    "            masks = np.zeros((image_infos[\"height\"], image_infos[\"width\"]))\n",
    "            # General trash = 1, ... , Cigarette = 10\n",
    "            anns = sorted(anns, key=lambda idx : idx['area'], reverse=True)\n",
    "            for i in range(len(anns)):\n",
    "                className = get_classname(anns[i]['category_id'], cats)\n",
    "                pixel_value = category_names.index(className)\n",
    "                masks[self.coco.annToMask(anns[i]) == 1] = pixel_value\n",
    "            masks = masks.astype(np.int8)\n",
    "                        \n",
    "            # transform -> albumentations 라이브러리 활용\n",
    "            if self.transform is not None:\n",
    "                transformed = self.transform(image=images, mask=masks)\n",
    "                images = transformed[\"image\"]\n",
    "                masks = transformed[\"mask\"]\n",
    "            return images, masks, image_infos\n",
    "        \n",
    "        if self.mode == 'test':\n",
    "            # transform -> albumentations 라이브러리 활용\n",
    "            if self.transform is not None:\n",
    "                transformed = self.transform(image=images)\n",
    "                images = transformed[\"image\"]\n",
    "            return images, image_infos\n",
    "    \n",
    "    def __len__(self) -> int:\n",
    "        # 전체 dataset의 size를 return\n",
    "        return len(self.coco.getImgIds())"
   ]
  },
  {
   "cell_type": "markdown",
   "id": "2f229393-ccbb-4eb6-ac8b-f1ec0ab3bbef",
   "metadata": {},
   "source": [
    "### 기존의 test.json 파일을 갖고 있어야 합니다.\n",
    "### 저는 test_past.json으로 이름을 바꿔서 놓고 작업했습니다."
   ]
  },
  {
   "cell_type": "code",
   "execution_count": null,
   "id": "21230706-59d6-4c23-9427-8227458eed7b",
   "metadata": {},
   "outputs": [],
   "source": [
    "with open('/opt/ml/input/data/test_past.json', 'r') as f:\n",
    "    test_past = json.load(f)\n",
    "\n",
    "with open('/opt/ml/data.json', 'r') as f:\n",
    "    data = json.load(f)"
   ]
  },
  {
   "cell_type": "code",
   "execution_count": 144,
   "id": "05c7882c-cefc-4edb-a3d3-fc6a5bd1089a",
   "metadata": {
    "tags": []
   },
   "outputs": [],
   "source": [
    "test_past_fnames = []\n",
    "for i in range(len(test_past['images'])):\n",
    "    fname = test_past['images'][i]['file_name']\n",
    "    test_past_fnames.append(fname)"
   ]
  },
  {
   "cell_type": "code",
   "execution_count": 145,
   "id": "1bc41bb8-8c52-4a26-ad1b-5b8b4ffb3b7f",
   "metadata": {
    "tags": []
   },
   "outputs": [
    {
     "name": "stdout",
     "output_type": "stream",
     "text": [
      "기존 test.json에 있던 image 중 labeling이 이미 되어 있던 이미지 개수: 195\n"
     ]
    }
   ],
   "source": [
    "cnt = 0\n",
    "new_fnames = []\n",
    "for i in range(len(data['images'])):\n",
    "    fname = data['images'][i]['file_name']\n",
    "    if fname in test_past_fnames:\n",
    "        cnt += 1\n",
    "        new_fnames.append(fname)\n",
    "        \n",
    "print('기존 test.json에 있던 image 중 labeling이 이미 되어 있던 이미지 개수:', cnt)\n",
    "# print(new_fnames)"
   ]
  },
  {
   "cell_type": "code",
   "execution_count": 150,
   "id": "cd9d97eb-7689-4b3b-86c2-7ad6b75d9f3b",
   "metadata": {},
   "outputs": [
    {
     "name": "stdout",
     "output_type": "stream",
     "text": [
      "loading annotations into memory...\n",
      "Done (t=0.57s)\n",
      "creating index...\n",
      "index created!\n"
     ]
    }
   ],
   "source": [
    "# train.json / validation.json / test.json 디렉토리 설정\n",
    "train_path = dataset_path + '/data_revised.json'\n",
    "\n",
    "# collate_fn needs for batch\n",
    "def collate_fn(batch):\n",
    "    return tuple(zip(*batch))\n",
    "\n",
    "import albumentations as A\n",
    "from albumentations.pytorch import ToTensorV2\n",
    "train_transform = A.Compose([\n",
    "                            ToTensorV2()\n",
    "                            ])\n",
    "\n",
    "# train dataset\n",
    "train_dataset = CustomDataLoader(data_dir=train_path, mode='train', transform=train_transform)\n",
    "\n",
    "# DataLoader\n",
    "train_loader = torch.utils.data.DataLoader(dataset=train_dataset, \n",
    "                                           batch_size=1,\n",
    "                                           shuffle=False,\n",
    "                                           num_workers=4,\n",
    "                                           collate_fn=collate_fn)"
   ]
  },
  {
   "cell_type": "code",
   "execution_count": 151,
   "id": "b8c74954-955f-46fa-835e-f6a401d4b5e0",
   "metadata": {},
   "outputs": [],
   "source": [
    "data_dir = '/opt/ml/input/mmseg'\n",
    "annotation_dir = os.path.join(data_dir, 'annotations')\n",
    "\n",
    "# train_pseudo폴더에 저장되도록 설정해놓았습니다.\n",
    "for path in ['train_pseudo', 'valid']:\n",
    "    os.makedirs(os.path.join(annotation_dir, path), exist_ok=True)"
   ]
  },
  {
   "cell_type": "code",
   "execution_count": 152,
   "id": "85dcdb4f-fa06-47fa-8242-cdcdc66c1cfc",
   "metadata": {},
   "outputs": [],
   "source": [
    "# 기존 이미지와 겹치지 않도록 이미지 번호 설정\n",
    "# 임의로 5000번부터 시작하도록 했습니다.\n",
    "new_indices = 5000"
   ]
  },
  {
   "cell_type": "code",
   "execution_count": 153,
   "id": "68d7cdb3-2c97-41db-bf28-9551a761388b",
   "metadata": {},
   "outputs": [],
   "source": [
    "for (imgs, masks, image_infos) in train_loader:\n",
    "    \n",
    "    image_infos = image_infos[0]\n",
    "\n",
    "    if image_infos['file_name'] in new_fnames:\n",
    "        \n",
    "        # train_pseudo폴더에 저장되도록 설정해놓았습니다.\n",
    "        file_dir = f\"{annotation_dir}/train_pseudo/{str(int(image_infos['id'])+new_indices).zfill(4)}.png\"\n",
    "        masks = masks[0].numpy()\n",
    "        cv2.imwrite(file_dir, masks)\n",
    "        shutil.copyfile(os.path.join(\"/opt/ml/input/data\", image_infos['file_name']), os.path.join(\"/opt/ml/input/mmseg/images/train_pseudo\", f\"{str(int(image_infos['id'])+new_indices).zfill(4)}.jpg\"))"
   ]
  }
 ],
 "metadata": {
  "interpreter": {
   "hash": "5d0c2b1480244832d7dbf237984b0f05a268e3e22e4477542a885f8374c01bd9"
  },
  "kernelspec": {
   "display_name": "Python 3 (ipykernel)",
   "language": "python",
   "name": "python3"
  },
  "language_info": {
   "codemirror_mode": {
    "name": "ipython",
    "version": 3
   },
   "file_extension": ".py",
   "mimetype": "text/x-python",
   "name": "python",
   "nbconvert_exporter": "python",
   "pygments_lexer": "ipython3",
   "version": "3.8.5"
  }
 },
 "nbformat": 4,
 "nbformat_minor": 5
}
