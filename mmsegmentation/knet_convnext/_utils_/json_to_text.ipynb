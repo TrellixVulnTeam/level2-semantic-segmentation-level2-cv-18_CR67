{
 "cells": [
  {
   "cell_type": "code",
   "execution_count": 6,
   "metadata": {},
   "outputs": [],
   "source": [
    "import os\n",
    "import json\n",
    "import shutil\n",
    "\n",
    "# kfold, json 위치는 적절하게 수정해서 사용\n",
    "json_root='/opt/ml/input/data'\n",
    "DATA_ROOT = '/opt/ml/input/mmseg'\n",
    "TRAIN_JSON = os.path.join(json_root, \"cv_train_1.json\")\n",
    "VALID_JSON = os.path.join(json_root, \"cv_val_1.json\")\n",
    "TEST_JSON = os.path.join(json_root, \"test.json\")"
   ]
  },
  {
   "cell_type": "code",
   "execution_count": 9,
   "metadata": {},
   "outputs": [],
   "source": [
    "def make(json_dir, path):\n",
    "    imagePath = f'{DATA_ROOT}/images/' + path\n",
    "    os.makedirs(imagePath, exist_ok=True)\n",
    "\n",
    "    splitPath = f'{DATA_ROOT}/splits'\n",
    "\n",
    "    with open(json_dir, \"r\", encoding=\"utf8\") as outfile:\n",
    "        json_data = json.load(outfile)\n",
    "    image_datas = json_data[\"images\"]\n",
    "    file = open(f'{splitPath}/{path}.txt','w')\n",
    "\t\t# 이미지를 image_id 기준으로 새로 저장\n",
    "    for image_data in image_datas:\n",
    "        shutil.copyfile(os.path.join(json_root, image_data['file_name']), os.path.join(imagePath,f\"{image_data['id']:04}.jpg\"))\n",
    "        file.write(f\"{path}/{image_data['id']:04}\\n\")\n",
    "    file.close()"
   ]
  },
  {
   "cell_type": "code",
   "execution_count": 10,
   "metadata": {},
   "outputs": [],
   "source": [
    "make(TRAIN_JSON, 'train')\n",
    "make(VALID_JSON, 'valid')\n",
    "make(TEST_JSON, 'test')"
   ]
  },
  {
   "cell_type": "code",
   "execution_count": null,
   "metadata": {},
   "outputs": [],
   "source": []
  }
 ],
 "metadata": {
  "interpreter": {
   "hash": "d4d1e4263499bec80672ea0156c357c1ee493ec2b1c70f0acce89fc37c4a6abe"
  },
  "kernelspec": {
   "display_name": "Python 3.8.5 ('base')",
   "language": "python",
   "name": "python3"
  },
  "language_info": {
   "codemirror_mode": {
    "name": "ipython",
    "version": 3
   },
   "file_extension": ".py",
   "mimetype": "text/x-python",
   "name": "python",
   "nbconvert_exporter": "python",
   "pygments_lexer": "ipython3",
   "version": "3.8.5"
  },
  "orig_nbformat": 4
 },
 "nbformat": 4,
 "nbformat_minor": 2
}
