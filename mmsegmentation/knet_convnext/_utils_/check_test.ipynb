{
 "cells": [
  {
   "cell_type": "code",
   "execution_count": 47,
   "metadata": {},
   "outputs": [
    {
     "data": {
      "text/plain": [
       "image_id                                         batch_01_vt/0216.jpg\n",
       "PredictionString    0 0 0 0 0 0 0 0 0 0 0 0 0 0 0 0 0 0 0 0 0 0 0 ...\n",
       "Name: 16, dtype: object"
      ]
     },
     "execution_count": 47,
     "metadata": {},
     "output_type": "execute_result"
    }
   ],
   "source": [
    "import pandas as pd\n",
    "import cv2\n",
    "from torch.utils.data import Dataset, DataLoader\n",
    "from pycocotools.coco import COCO\n",
    "import os\n",
    "import numpy as np\n",
    "from PIL import Image\n",
    "\n",
    "import albumentations as A\n",
    "from albumentations.pytorch import ToTensorV2\n",
    "import torch\n",
    "dataset_path  = '/opt/ml/input/data'\n",
    "path='/opt/ml/input/mmseg/test_check/csv/submission_last_50_only_tta.csv'\n",
    "test_path = dataset_path + '/test.json'\n",
    "batch_size=16\n",
    "result=pd.read_csv(path)\n",
    "result.iloc[16]"
   ]
  },
  {
   "cell_type": "code",
   "execution_count": 42,
   "metadata": {},
   "outputs": [
    {
     "data": {
      "image/png": "[encoded data removed]",
      "text/plain": [
       "<Figure size 432x288 with 1 Axes>"
      ]
     },
     "metadata": {
      "needs_background": "light"
     },
     "output_type": "display_data"
    }
   ],
   "source": [
    "palette = [[0,0,0],[192,0,128],[0,128,192],[0,128,64],[128,0,0],[64,0,128],[64,0,192],[192,128,64],[192,192,128],[64,64,128],[128,0,192]]\n",
    "rgb_list = [(255, 0, 0), (0, 255, 0), (0, 0, 255)]\n",
    "one_px = np.array(palette)[np.newaxis, :, :]\n",
    "import matplotlib.pyplot as plt\n",
    "plt.imshow(np.array(one_px))\n",
    "plt.axis('off')\n",
    "plt.show()\n"
   ]
  },
  {
   "cell_type": "code",
   "execution_count": 48,
   "metadata": {},
   "outputs": [],
   "source": [
    "category_names=['Backgroud', #검정\n",
    " 'General trash', #핑크\n",
    " 'Paper', # 하늘\n",
    " 'Paper pack', # 초록\n",
    " 'Metal', # 빨강\n",
    " 'Glass', # 진보라\n",
    " 'Plastic', # 연남색\n",
    " 'Styrofoam', # 주황\n",
    " 'Plastic bag', # 노랑\n",
    " 'Battery', # 진남색\n",
    " 'Clothing'] # 연보라\n",
    "\n",
    "palette = [[0,0,0],[192,0,128],[0,128,192],[0,128,64],[128,0,0],[64,0,128],[64,0,192],[192,128,64],[192,192,128],[64,64,128],[128,0,192]]\n",
    "\n",
    "def get_classname(classID, cats):\n",
    "    for i in range(len(cats)):\n",
    "        if cats[i]['id']==classID:\n",
    "            return cats[i]['name']\n",
    "    return \"None\"\n",
    "\n",
    "class CustomDataLoader(Dataset):\n",
    "    \"\"\"COCO format\"\"\"\n",
    "    def __init__(self, data_dir, mode = 'train', transform = None):\n",
    "        super().__init__()\n",
    "        self.mode = mode\n",
    "        self.transform = transform\n",
    "        self.coco = COCO(data_dir)\n",
    "        \n",
    "    def __getitem__(self, index: int):\n",
    "        # dataset이 index되어 list처럼 동작\n",
    "        # image_id = self.coco.getImgIds(imgIds=index)\n",
    "        image_id = self.coco.getImgIds()[index]\n",
    "        image_infos = self.coco.loadImgs(image_id)[0]\n",
    "        \n",
    "        # cv2 를 활용하여 image 불러오기\n",
    "        images = cv2.imread(os.path.join(dataset_path, image_infos['file_name']))\n",
    "        images = cv2.cvtColor(images, cv2.COLOR_BGR2RGB).astype(np.float32)\n",
    "        images /= 255.0\n",
    "        \n",
    "        if (self.mode in ('train', 'val')):\n",
    "            ann_ids = self.coco.getAnnIds(imgIds=image_infos['id'])\n",
    "            anns = self.coco.loadAnns(ann_ids)\n",
    "\n",
    "            # Load the categories in a variable\n",
    "            cat_ids = self.coco.getCatIds()\n",
    "            cats = self.coco.loadCats(cat_ids)\n",
    "\n",
    "            # masks : size가 (height x width)인 2D\n",
    "            # 각각의 pixel 값에는 \"category id\" 할당\n",
    "            # Background = 0\n",
    "            masks = np.zeros((image_infos[\"height\"], image_infos[\"width\"]))\n",
    "            # General trash = 1, ... , Cigarette = 10\n",
    "            anns = sorted(anns, key=lambda idx : idx['area'], reverse=True)\n",
    "            for i in range(len(anns)):\n",
    "                print(anns[i]['category_id'])\n",
    "                print(cats)\n",
    "                className = get_classname(anns[i]['category_id'], cats)\n",
    "                print(className)\n",
    "                pixel_value = category_names.index(className)\n",
    "                masks[self.coco.annToMask(anns[i]) == 1] = pixel_value\n",
    "            masks = masks.astype(np.int8)\n",
    "                        \n",
    "            # transform -> albumentations 라이브러리 활용\n",
    "            if self.transform is not None:\n",
    "                transformed = self.transform(image=images, mask=masks)\n",
    "                images = transformed[\"image\"]\n",
    "                masks = transformed[\"mask\"]\n",
    "            return images, masks, image_infos\n",
    "        \n",
    "        if self.mode == 'test':\n",
    "            # transform -> albumentations 라이브러리 활용\n",
    "            if self.transform is not None:\n",
    "                transformed = self.transform(image=images)\n",
    "                images = transformed[\"image\"]\n",
    "            return images, image_infos\n",
    "    \n",
    "    def __len__(self) -> int:\n",
    "        # 전체 dataset의 size를 return\n",
    "        return len(self.coco.getImgIds())"
   ]
  },
  {
   "cell_type": "code",
   "execution_count": 49,
   "metadata": {},
   "outputs": [
    {
     "name": "stdout",
     "output_type": "stream",
     "text": [
      "loading annotations into memory...\n",
      "Done (t=0.00s)\n",
      "creating index...\n",
      "index created!\n"
     ]
    }
   ],
   "source": [
    "def collate_fn(batch):\n",
    "    return tuple(zip(*batch))\n",
    "\n",
    "\n",
    "test_transform = A.Compose([\n",
    "                           ToTensorV2()\n",
    "                           ])\n",
    "test_dataset = CustomDataLoader(data_dir=test_path, mode='test', transform=test_transform)\n",
    "test_loader = torch.utils.data.DataLoader(dataset=test_dataset,\n",
    "                                          batch_size=batch_size,\n",
    "                                          num_workers=4,\n",
    "                                          collate_fn=collate_fn)"
   ]
  },
  {
   "cell_type": "code",
   "execution_count": 52,
   "metadata": {},
   "outputs": [],
   "source": [
    "# images 제거\n",
    "\n",
    "import os.path as osp\n",
    "from glob import glob\n",
    "data_dir='/opt/ml/input/mmseg/test_check/last_image'\n",
    "os.makedirs('/opt/ml/input/mmseg/test_check',exist_ok=True)\n",
    "os.makedirs(data_dir,exist_ok=True)\n",
    "image_paths = {x for x in glob(osp.join(data_dir, '*'))}\n",
    "\n",
    "for image_path in image_paths:\n",
    "    os.remove(image_path)"
   ]
  },
  {
   "cell_type": "code",
   "execution_count": 51,
   "metadata": {},
   "outputs": [
    {
     "ename": "KeyboardInterrupt",
     "evalue": "",
     "output_type": "error",
     "traceback": [
      "\u001b[0;31m---------------------------------------------------------------------------\u001b[0m",
      "\u001b[0;31mKeyboardInterrupt\u001b[0m                         Traceback (most recent call last)",
      "\u001b[1;32m/opt/ml/mmsegmentation/_MyModel/_utils_/check_test.ipynb Cell 6'\u001b[0m in \u001b[0;36m<cell line: 6>\u001b[0;34m()\u001b[0m\n\u001b[1;32m     <a href='vscode-notebook-cell://ssh-remote%2B115.85.183.56/opt/ml/mmsegmentation/_MyModel/_utils_/check_test.ipynb#ch0000005vscode-remote?line=12'>13</a>\u001b[0m y\u001b[39m=\u001b[39mresult[\u001b[39m'\u001b[39m\u001b[39mPredictionString\u001b[39m\u001b[39m'\u001b[39m][i\u001b[39m*\u001b[39mbatch_size\u001b[39m+\u001b[39mj]\u001b[39m.\u001b[39msplit(\u001b[39m\"\u001b[39m\u001b[39m \u001b[39m\u001b[39m\"\u001b[39m)\n\u001b[1;32m     <a href='vscode-notebook-cell://ssh-remote%2B115.85.183.56/opt/ml/mmsegmentation/_MyModel/_utils_/check_test.ipynb#ch0000005vscode-remote?line=13'>14</a>\u001b[0m \u001b[39mfor\u001b[39;00m k \u001b[39min\u001b[39;00m \u001b[39mrange\u001b[39m(\u001b[39mlen\u001b[39m(y)):\n\u001b[0;32m---> <a href='vscode-notebook-cell://ssh-remote%2B115.85.183.56/opt/ml/mmsegmentation/_MyModel/_utils_/check_test.ipynb#ch0000005vscode-remote?line=14'>15</a>\u001b[0m     y[k]\u001b[39m=\u001b[39mpalette[\u001b[39mint\u001b[39;49m(y[k])]\n\u001b[1;32m     <a href='vscode-notebook-cell://ssh-remote%2B115.85.183.56/opt/ml/mmsegmentation/_MyModel/_utils_/check_test.ipynb#ch0000005vscode-remote?line=15'>16</a>\u001b[0m y\u001b[39m=\u001b[39mtorch\u001b[39m.\u001b[39mTensor(y)\u001b[39m.\u001b[39mreshape(\u001b[39m512\u001b[39m,\u001b[39m512\u001b[39m,\u001b[39m3\u001b[39m)\u001b[39m.\u001b[39mnumpy()\n\u001b[1;32m     <a href='vscode-notebook-cell://ssh-remote%2B115.85.183.56/opt/ml/mmsegmentation/_MyModel/_utils_/check_test.ipynb#ch0000005vscode-remote?line=16'>17</a>\u001b[0m temp_result\u001b[39m=\u001b[39mnp\u001b[39m.\u001b[39mconcatenate((x,y),\u001b[39m1\u001b[39m)\n",
      "\u001b[0;31mKeyboardInterrupt\u001b[0m: "
     ]
    }
   ],
   "source": [
    "# images 생성\n",
    "\n",
    "from PIL import Image\n",
    "import numpy as np\n",
    "\n",
    "for i,imgs in enumerate(test_loader):\n",
    "    temp_images = imgs[0]\n",
    "    temp_anns = imgs[1]\n",
    "    for j in range(len(temp_anns)):\n",
    "        x=torch.Tensor(temp_images[j]).permute([1,2,0])*255\n",
    "        x=x.numpy().astype(np.uint8)\n",
    "\n",
    "        y=result['PredictionString'][i*batch_size+j].split(\" \")\n",
    "        for k in range(len(y)):\n",
    "            y[k]=palette[int(y[k])]\n",
    "        y=torch.Tensor(y).reshape(512,512,3).numpy()\n",
    "        temp_result=np.concatenate((x,y),1)\n",
    "        temp_result=Image.fromarray(temp_result.astype(np.uint8))\n",
    "        temp_result.save(os.path.join(data_dir,f\"{int(temp_anns[j]['id']):04}.jpg\"))"
   ]
  },
  {
   "cell_type": "code",
   "execution_count": null,
   "metadata": {},
   "outputs": [],
   "source": []
  }
 ],
 "metadata": {
  "interpreter": {
   "hash": "d4d1e4263499bec80672ea0156c357c1ee493ec2b1c70f0acce89fc37c4a6abe"
  },
  "kernelspec": {
   "display_name": "Python 3.8.5 ('base')",
   "language": "python",
   "name": "python3"
  },
  "language_info": {
   "codemirror_mode": {
    "name": "ipython",
    "version": 3
   },
   "file_extension": ".py",
   "mimetype": "text/x-python",
   "name": "python",
   "nbconvert_exporter": "python",
   "pygments_lexer": "ipython3",
   "version": "3.8.5"
  },
  "orig_nbformat": 4
 },
 "nbformat": 4,
 "nbformat_minor": 2
}
