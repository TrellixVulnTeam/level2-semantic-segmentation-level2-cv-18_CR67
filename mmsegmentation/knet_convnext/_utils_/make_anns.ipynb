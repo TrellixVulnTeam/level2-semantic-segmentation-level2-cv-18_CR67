{
 "cells": [
  {
   "cell_type": "code",
   "execution_count": 1,
   "metadata": {},
   "outputs": [],
   "source": [
    "import os\n",
    "import json\n",
    "import torch\n",
    "import numpy as np\n",
    "from pycocotools.coco import COCO\n",
    "from PIL import Image\n",
    "\n",
    "# 시각화를 위한 라이브러리\n",
    "import matplotlib.pyplot as plt\n",
    "\n",
    "device = \"cuda\" if torch.cuda.is_available() else \"cpu\""
   ]
  },
  {
   "cell_type": "code",
   "execution_count": 2,
   "metadata": {},
   "outputs": [],
   "source": [
    "data_dir = '/opt/ml/input/mmseg'\n",
    "annotation_dir = os.path.join(data_dir, 'annotations')\n",
    "for path in ['train', 'valid']:\n",
    "    os.makedirs(os.path.join(annotation_dir, path), exist_ok=True)\n"
   ]
  },
  {
   "cell_type": "code",
   "execution_count": 3,
   "metadata": {},
   "outputs": [],
   "source": [
    "\n",
    "with open('/opt/ml/input/data/cv_train_1.json','r',encoding='utf8') as f:\n",
    "    train_data = json.load(f)\n",
    "train_anns_list=[]\n",
    "anns=train_data['annotations'][:]\n",
    "for img_info in train_data['images']:\n",
    "    tmp_anns=[]\n",
    "    while anns:\n",
    "        if anns[0]['image_id']!=img_info['id']:\n",
    "            tmp_anns=sorted(tmp_anns,key=lambda x:x['area'],reverse=True)\n",
    "            if tmp_anns:\n",
    "                train_anns_list.append(tmp_anns)\n",
    "            break\n",
    "        tmp_anns.append(anns.pop(0))\n",
    "\n",
    "with open('/opt/ml/input/data/cv_val_1.json','r',encoding='utf8') as f:\n",
    "    val_data = json.load(f)\n",
    "val_anns_list=[]\n",
    "anns=val_data['annotations'][:]\n",
    "for img_info in val_data['images']:\n",
    "    tmp_anns=[]\n",
    "    while anns:\n",
    "        if anns[0]['image_id']!=img_info['id']:\n",
    "            tmp_anns=sorted(tmp_anns,key=lambda x:x['area'],reverse=True)\n",
    "            if tmp_anns:\n",
    "                val_anns_list.append(tmp_anns)\n",
    "            break\n",
    "        tmp_anns.append(anns.pop(0))\n"
   ]
  },
  {
   "cell_type": "code",
   "execution_count": 4,
   "metadata": {},
   "outputs": [
    {
     "name": "stdout",
     "output_type": "stream",
     "text": [
      "loading annotations into memory...\n",
      "Done (t=3.15s)\n",
      "creating index...\n",
      "index created!\n",
      "loading annotations into memory...\n",
      "Done (t=0.65s)\n",
      "creating index...\n",
      "index created!\n",
      "2616 653\n"
     ]
    }
   ],
   "source": [
    "coco_train = COCO('/opt/ml/input/data/cv_train_1.json')\n",
    "coco_val = COCO('/opt/ml/input/data/cv_val_1.json')\n",
    "print(len(train_anns_list),len(val_anns_list))\n"
   ]
  },
  {
   "cell_type": "code",
   "execution_count": 5,
   "metadata": {},
   "outputs": [],
   "source": [
    "import os.path as osp\n",
    "import numpy as np\n",
    "from PIL import Image\n",
    "import mmcv\n",
    "# convert dataset annotation to semantic segmentation map\n",
    "data_root = 'iccv09Data'\n",
    "img_dir = 'images'\n",
    "ann_dir = 'labels'\n",
    "# define class and plaette for better visualization\n",
    "classes = ('Background','General trash', 'Paper', 'Paper pack', 'Metal', 'Glass', 'Plastic', 'Styrofoam', 'Plastic bag', 'Battery', 'Clothing')\n",
    "palette = [[0,0,0],[192,0,128],[0,128,192],[0,128,64],[128,0,0],[64,0,128],[64,0,192],[192,128,64],[192,192,128],[64,64,128],[128,0,192]]\n"
   ]
  },
  {
   "cell_type": "code",
   "execution_count": 10,
   "metadata": {},
   "outputs": [
    {
     "name": "stdout",
     "output_type": "stream",
     "text": [
      "[0 0 0 0 0 0 0 0 0 0 0 0 0 0 0 0 0 0 0 0 0 0 0 0 0 0 0 0 0 0 0 0 0 0 0 0 0\n",
      " 0 0 0 0 0 0 0 0 0 0 0 0 0 0 0 0 0 0 0 0 0 0 0 0 0 0 0 0 0 0 0 0 0 0 0 0 0\n",
      " 0 0 0 0 0 0 0 0 0 0 0 0 0 0 0 0 0 0 0 0 0 0 0 0 0 0 0 0 0 0 0 0 0 0 0 0 0\n",
      " 0 0 0 0 0 0 0 0 0 0 0 0 0 0 0 0 0 0 0 0 0 5 5 5 5 5 5 5 5 5 5 5 5 5 5 5 5\n",
      " 5 5 5 5 5 5 5 5 5 5 5 5 5 5 5 5 5 5 5 0 0 0 0 0 0 0 0 0 0 0 0 0 0 0 0 0 0\n",
      " 0 0 0 0 0 0 0 0 0 0 0 0 0 0 0 0 0 0 0 0 0 0 0 0 0 0 0 0 0 0 0 0 0 0 0 0 0\n",
      " 0 6 6 6 0 0 0 0 0 0 0 0 0 0 0 0 0 0 0 0 0 0 0 0 0 0 0 0 0 0 0 0 0 0 0 0 0\n",
      " 0 0 0 0 0 0 0 0 0 0 0 0 0 0 0 0 0 0 0 0 0 0 6 6 6 6 6 6 6 6 6 6 6 6 6 6 6\n",
      " 6 6 6 6 6 6 6 6 6 6 6 6 6 6 6 6 6 6 6 6 6 6 6 6 0 0 0 0 0 0 0 0 0 0 0 0 0\n",
      " 0 0 0 0 0 0 0 0 0 0 0 0 0 0 0 0 0 0 0 0 0 0 0 0 0 0 0 0 0 0 0 0 0 0 0 0 0\n",
      " 0 0 0 0 0 0 0 0 0 0 0 0 0 0 0 0 0 0 0 0 0 0 0 0 0 0 0 0 0 0 0 0 0 0 0 0 0\n",
      " 0 0 0 0 0 0 0 0 0 0 0 0 0 0 0 0 0 0 0 0 0 0 0 0 0 0 0 0 0 0 0 0 0 0 0 0 0\n",
      " 0 0 0 0 0 0 0 0 0 0 0 0 0 0 0 0 0 0 0 0 0 0 0 0 0 0 0 0 0 0 0 0 0 0 0 0 0\n",
      " 0 0 0 0 0 0 0 0 0 0 0 0 0 0 0 0 0 0 0 0 0 0 0 0 0 0 0 0 0 0 0]\n"
     ]
    }
   ],
   "source": [
    "for idx, (anns) in enumerate(train_anns_list):\n",
    "    masks=np.zeros((512,512))\n",
    "    for i in range(len(anns)):\n",
    "        for j,test in enumerate(coco_train.annToMask(anns[i])):\n",
    "            masks[coco_train.annToMask(anns[i]) == 1] = anns[i]['category_id']\n",
    "        masks = masks.astype(np.int8)\n",
    "    seg_map = masks\n",
    "\n",
    "    seg_img = Image.fromarray(seg_map).convert('P')\n",
    "    seg_img.putpalette(np.array(palette, dtype=np.uint8))\n",
    "\n",
    "    image_infos = anns[0]['image_id']\n",
    "    # annotation을 image_id로 저장합니다.\n",
    "    file_dir = f\"{annotation_dir}/train/{image_infos:04}.png\"\n",
    "    seg_img.save(file_dir)\n",
    "\n"
   ]
  },
  {
   "cell_type": "code",
   "execution_count": 107,
   "metadata": {},
   "outputs": [],
   "source": [
    "for idx, (anns) in enumerate(val_anns_list):\n",
    "    masks=np.zeros((512,512))\n",
    "    for i in range(len(anns)):\n",
    "        for j,test in enumerate(coco_val.annToMask(anns[i])):\n",
    "            masks[coco_val.annToMask(anns[i]) == 1] = anns[i]['category_id']\n",
    "        masks = masks.astype(np.int8)\n",
    "    seg_map = masks\n",
    "    seg_img = Image.fromarray(seg_map).convert('P')\n",
    "    seg_img.putpalette(np.array(palette, dtype=np.uint8))\n",
    "\n",
    "    image_infos = anns[0]['image_id']\n",
    "    # annotation을 image_id로 저장합니다.\n",
    "    file_dir = f\"{annotation_dir}/valid/{image_infos:04}.png\"\n",
    "    seg_img.save(file_dir)"
   ]
  },
  {
   "cell_type": "code",
   "execution_count": null,
   "metadata": {},
   "outputs": [],
   "source": []
  }
 ],
 "metadata": {
  "interpreter": {
   "hash": "d4d1e4263499bec80672ea0156c357c1ee493ec2b1c70f0acce89fc37c4a6abe"
  },
  "kernelspec": {
   "display_name": "Python 3.8.5 ('base')",
   "language": "python",
   "name": "python3"
  },
  "language_info": {
   "codemirror_mode": {
    "name": "ipython",
    "version": 3
   },
   "file_extension": ".py",
   "mimetype": "text/x-python",
   "name": "python",
   "nbconvert_exporter": "python",
   "pygments_lexer": "ipython3",
   "version": "3.8.5"
  },
  "orig_nbformat": 4
 },
 "nbformat": 4,
 "nbformat_minor": 2
}
