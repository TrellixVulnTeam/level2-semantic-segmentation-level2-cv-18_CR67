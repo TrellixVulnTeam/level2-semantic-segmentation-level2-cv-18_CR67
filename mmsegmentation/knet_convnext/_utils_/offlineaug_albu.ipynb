{
 "cells": [
  {
   "cell_type": "code",
   "execution_count": 1,
   "metadata": {},
   "outputs": [],
   "source": [
    "import os\n",
    "import cv2\n",
    "import albumentations as A\n",
    "import numpy as np\n",
    "import matplotlib.pyplot as plt\n",
    "import seaborn as sns; sns.set()\n",
    "\n",
    "from skimage.color import label2rgb\n",
    "from glob import glob\n",
    "plt.rcParams['axes.grid'] = False"
   ]
  },
  {
   "cell_type": "code",
   "execution_count": 2,
   "metadata": {},
   "outputs": [],
   "source": [
    "def label_mask(mask):\n",
    "    mask = mask[:,:,-1]\n",
    "    label = np.zeros((mask.shape[0], mask.shape[1], 3)).astype(np.uint8)\n",
    "    for i in range(1, 11):\n",
    "        label[mask == i] = palette[i]\n",
    "    return label\n",
    "\n",
    "def augment_and_show(transforms, image, mask=None):\n",
    "    transformed = transforms(image=image, mask=mask)\n",
    "\n",
    "    image = cv2.cvtColor(image, cv2.COLOR_BGR2RGB)\n",
    "    image_aug = cv2.cvtColor(transformed['image'], cv2.COLOR_BGR2RGB)\n",
    "    \n",
    "    if mask is None:\n",
    "        f, ax = plt.subplots(1, 2, figsize=(16, 8))\n",
    "        \n",
    "        ax[0].imshow(image)\n",
    "        ax[0].set_title('Original image')\n",
    "        \n",
    "        ax[1].imshow(image_aug)\n",
    "        ax[1].set_title('Augmented image')\n",
    "    else:\n",
    "        f, ax = plt.subplots(2, 2, figsize=(8, 8))\n",
    "        \n",
    "        if len(mask.shape) != 3:\n",
    "            mask = label2rgb(mask, bg_label=0)            \n",
    "            mask_aug = label2rgb(transformed['mask'], bg_label=0)\n",
    "        else:\n",
    "            mask = cv2.cvtColor(mask, cv2.COLOR_BGR2RGB)\n",
    "            mask_aug = cv2.cvtColor(transformed['mask'], cv2.COLOR_BGR2RGB)\n",
    "        \n",
    "        mask = label_mask(mask)\n",
    "        mask_aug = label_mask(mask_aug)\n",
    "\n",
    "        ax[0, 0].imshow(image)\n",
    "        ax[0, 0].set_title('Original image')\n",
    "\n",
    "        ax[0, 1].imshow(image_aug)\n",
    "        ax[0, 1].set_title('Augmented image')\n",
    "\n",
    "        ax[1, 0].imshow(mask, interpolation='nearest')\n",
    "        ax[1, 0].set_title('Original mask')\n",
    "\n",
    "        ax[1, 1].imshow(mask_aug, interpolation='nearest')\n",
    "        ax[1, 1].set_title('Augmented mask')\n",
    "\n",
    "    return transformed['image'], transformed['mask']"
   ]
  },
  {
   "cell_type": "code",
   "execution_count": 3,
   "metadata": {},
   "outputs": [],
   "source": [
    "classes = ['Background', 'General trash', 'Paper', 'Paper pack', 'Metal', 'Glass', 'Plastic','Styrofoam', 'Plastic bag', 'Battery', 'Clothing']\n",
    "palette = [\n",
    "    [0, 0, 0],\n",
    "    [192, 0, 128], [0, 128, 192], [0, 128, 64],\n",
    "    [128, 0, 0], [64, 0, 128], [64, 0, 192],\n",
    "    [192, 128, 64], [192, 192, 128], [64, 64, 128], [128, 0, 192], [64,64,64]\n",
    "    ]\n",
    "img_norm_cfg = dict(\n",
    "    mean=[123.675, 116.28, 103.53], std=[58.395, 57.12, 57.375], to_rgb=True)"
   ]
  },
  {
   "cell_type": "markdown",
   "metadata": {},
   "source": [
    "## 적용할 augmentation 미리보기\n",
    "\n",
    "1. file_path : 기존에 image와 annotation 이 저장된 경로\n",
    "2. ignore_label : 제외하고 싶은 label\n",
    "3. transforms : augmentation기법들\n",
    "- 원하는 augmentation 추가하실 수 있습니다."
   ]
  },
  {
   "cell_type": "code",
   "execution_count": 4,
   "metadata": {},
   "outputs": [],
   "source": [
    "########### 이미지와 어노테이션 파일 경로  ###########\n",
    "file_path = '/opt/ml/input/mmseg2'\n",
    "\n",
    "########### 제외할 라벨  ###########\n",
    "# 0 : 'Background'\n",
    "# 1 : 'General trash'\n",
    "# 2 : 'Paper' \n",
    "# 3 : 'Paper pack'\n",
    "# 4 : 'Metal'\n",
    "# 5 : 'Glass'\n",
    "# 6 : 'Plastic'\n",
    "# 7 : 'Styrofoam'\n",
    "# 8 : 'Plastic bag'\n",
    "# 9 : 'Battery'\n",
    "# 10: 'Clothing'\n",
    "\n",
    "# Paper, Plastic, Plastic bag 제외\n",
    "ignore_label = [2,6,8]\n",
    "\n",
    "########### Augmentaiton 기법들  ###########\n",
    "transforms = A.Compose([\n",
    "            A.HorizontalFlip(p=1),\n",
    "            A.VerticalFlip(p=1)\n",
    "            ])"
   ]
  },
  {
   "cell_type": "code",
   "execution_count": null,
   "metadata": {},
   "outputs": [],
   "source": [
    "########### 보고 싶은 이미지 id ###########\n",
    "image_id = '0022'\n",
    "mask = cv2.imread(os.path.join(file_path,'annotations/train/', image_id +'.png'))\n",
    "image = cv2.imread(os.path.join(file_path,'images/train/', image_id +'.jpg'))\n",
    "\n",
    "transformed=transforms(image=image,mask=mask)\n",
    "show = augment_and_show(transforms,image,mask)"
   ]
  },
  {
   "cell_type": "markdown",
   "metadata": {},
   "source": [
    "## 이미지 추가"
   ]
  },
  {
   "cell_type": "code",
   "execution_count": null,
   "metadata": {},
   "outputs": [],
   "source": [
    "for phase in ['train','valid']:\n",
    "    image_paths = glob(os.path.join(file_path,'images',phase,'*.jpg'))\n",
    "    annotation_paths = glob(os.path.join(file_path,'annotations',phase,'*.png'))\n",
    "    image_paths.sort()\n",
    "    annotation_paths.sort()\n",
    "    print(f'{phase}_image_count : {len(image_paths)}')\n",
    "    print(f'{phase}_annotation_count : {len(annotation_paths)}')\n",
    "    for i in range(len(image_paths)):\n",
    "        image_path = image_paths[i]\n",
    "        mask_path = annotation_paths[i]\n",
    "        \n",
    "        image_name = image_path.split('/')[-1].split('.')[0]\n",
    "        new_image_name = '1'+image_name\n",
    "        image = cv2.imread(image_path)\n",
    "        image = cv2.cvtColor(image, cv2.COLOR_BGR2RGB)\n",
    "        mask = cv2.imread(mask_path)\n",
    "        \n",
    "            \n",
    "        if ignore_label in mask:\n",
    "            continue\n",
    "        \n",
    "        transformed = transforms(image=image,mask=mask)\n",
    "\n",
    "        image_aug = cv2.cvtColor(transformed['image'], cv2.COLOR_BGR2RGB)\n",
    "        mask_aug = cv2.cvtColor(transformed['mask'], cv2.COLOR_BGR2RGB)\n",
    "        \n",
    "        \n",
    "        cv2.imwrite(os.path.join(file_path,'images',phase,new_image_name+'.jpg'),image_aug)\n",
    "        cv2.imwrite(os.path.join(file_path,'annotations',phase,new_image_name+'.png'),mask_aug[:512,:512])\n",
    "        \n",
    "    image_paths = glob(os.path.join(file_path,'images',phase,'*.jpg'))\n",
    "    annotation_paths = glob(os.path.join(file_path,'annotations',phase,'*.png'))\n",
    "\n",
    "    print('####################### 이미지 추가 이후 ##########################')\n",
    "    print(f'{phase}_image_count : {len(image_paths)}')\n",
    "    print(f'{phase}_annotation_count : {len(annotation_paths)}')\n",
    "    print('##################################################################')\n"
   ]
  }
 ],
 "metadata": {
  "interpreter": {
   "hash": "d4d1e4263499bec80672ea0156c357c1ee493ec2b1c70f0acce89fc37c4a6abe"
  },
  "kernelspec": {
   "display_name": "Python ('mlflow')",
   "language": "python",
   "name": "python3"
  },
  "language_info": {
   "codemirror_mode": {
    "name": "ipython",
    "version": 3
   },
   "file_extension": ".py",
   "mimetype": "text/x-python",
   "name": "python",
   "nbconvert_exporter": "python",
   "pygments_lexer": "ipython3",
   "version": "3.8.5"
  },
  "orig_nbformat": 4
 },
 "nbformat": 4,
 "nbformat_minor": 2
}
