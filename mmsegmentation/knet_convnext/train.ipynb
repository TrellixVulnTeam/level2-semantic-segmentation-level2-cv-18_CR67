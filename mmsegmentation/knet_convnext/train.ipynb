{
 "cells": [
  {
   "cell_type": "code",
   "execution_count": 1,
   "metadata": {},
   "outputs": [],
   "source": [
    "# import wandb\n",
    "from mmcv import Config\n",
    "from mmseg.datasets import build_dataset\n",
    "\n",
    "from mmseg.models import build_segmentor\n",
    "from mmseg.apis import train_segmentor\n",
    "from mmseg.datasets import (build_dataloader, build_dataset)\n",
    "import mmcv"
   ]
  },
  {
   "cell_type": "code",
   "execution_count": 2,
   "metadata": {},
   "outputs": [],
   "source": [
    "from mmseg.datasets.builder import DATASETS\n",
    "from mmseg.datasets.custom import CustomDataset\n",
    "import os.path as osp\n",
    "import numpy as np\n",
    "from PIL import Image\n",
    "import os\n",
    "from mmseg.apis import set_random_seed\n",
    "\n",
    "data_root = '/opt/ml/input/last'\n",
    "classes = ('Background','General trash', 'Paper', 'Paper pack', 'Metal', 'Glass', 'Plastic', 'Styrofoam', 'Plastic bag', 'Battery', 'Clothing')\n",
    "palette = [[0,0,0],[192,0,128],[0,128,192],[0,128,64],[128,0,0],[64,0,128],[64,0,192],[192,128,64],[192,192,128],[64,64,128],[128,0,192]]"
   ]
  },
  {
   "cell_type": "code",
   "execution_count": 3,
   "metadata": {},
   "outputs": [],
   "source": [
    "# model 이름\n",
    "model_path = '/opt/ml/mmsegmentation/_MyModel/_models_'\n",
    "model_name = 'knet_s3_upernet_convnext-d8_8x2_512x512.py'\n",
    "cfg = Config.fromfile(os.path.join(model_path,model_name))"
   ]
  },
  {
   "cell_type": "code",
   "execution_count": 4,
   "metadata": {},
   "outputs": [],
   "source": [
    "# cfg.norm_cfg = dict(type='BN', requires_grad=True)\n",
    "# cfg.model.backbone.norm_cfg = cfg.norm_cfg\n",
    "# cfg.model.decode_head.norm_cfg = cfg.norm_cfg\n",
    "# # cfg.model.neck.norm_cfg = cfg.norm_cfg\n",
    "# cfg.model.auxiliary_head.norm_cfg = cfg.norm_cfg\n",
    "# # cfg.model.decode_head.num_classes = 11\n",
    "# # cfg.model.auxiliary_head.num_classes = 11\n",
    "\n",
    "# # data root\n",
    "# cfg.data_root = data_root\n",
    "\n",
    "# batch size\n",
    "cfg.data.samples_per_gpu = 6\n",
    "cfg.data.workers_per_gpu=8\n",
    "cfg.load_from='/opt/ml/mmsegmentation/_MyModel/work_dirs/knet_last/epoch_40_only.pth'\n",
    "\n",
    "# # cfg.data.train.data_root = cfg.data_root\n",
    "# # cfg.data.train.img_dir = 'images'\n",
    "# # cfg.data.train.ann_dir = 'annotations'\n",
    "# # cfg.data.train.split = data_root+'/splits/train.txt'\n",
    "\n",
    "\n",
    "# cfg.data.val.data_root = cfg.data_root\n",
    "# cfg.data.val.img_dir = 'images'\n",
    "# cfg.data.val.ann_dir = 'annotations'\n",
    "# cfg.data.val.split = data_root+'/splits/valid.txt'\n",
    "\n",
    "\n",
    "# # where checkpoints saved\n",
    "cfg.work_dir = './work_dirs/knet_last'\n",
    "\n",
    "cfg.runner.max_epochs = 10 # max epoch\n",
    "\n",
    "cfg.log_config.interval = 200 # train 정보 출력 간격\n",
    "cfg.optimizer_config.grad_clip = dict(max_norm=35, norm_type=2)\n",
    "cfg.checkpoint_config = dict(max_keep_ckpts=6, interval=2) # max_keep_ckpts : pht 파일 최대 저장 갯수 , interval : pth 저장 간격\n",
    "# cfg.optimizer_config= dict(type='Fp16OptimizerHook', loss_scale='dynamic',grad_clip = dict(max_norm=35, norm_type=2))\n",
    "# # Set seed to facitate reproducing the result\n",
    "cfg.seed = 21\n",
    "# set_random_seed(0, deterministic=False)\n",
    "cfg.gpu_ids = [0]\n"
   ]
  },
  {
   "cell_type": "code",
   "execution_count": 5,
   "metadata": {},
   "outputs": [
    {
     "name": "stderr",
     "output_type": "stream",
     "text": [
      "2022-05-11 19:52:16,221 - mmseg - INFO - Loaded 4417 images\n"
     ]
    }
   ],
   "source": [
    "datasets = build_dataset(cfg.data.train)\n"
   ]
  },
  {
   "cell_type": "code",
   "execution_count": 6,
   "metadata": {},
   "outputs": [],
   "source": [
    "# import torch\n",
    "# import matplotlib.pyplot as plt\n",
    "# import cv2\n",
    "# import numpy as np\n",
    "# from PIL import Image\n",
    "# ## \n",
    "# datasets = build_dataset(cfg.data.train)\n",
    "\n",
    "\n",
    "# fig, ax = plt.subplots(1,2,figsize=(12,12))\n",
    "# data=datasets[0]\n",
    "# test_img=data['img'].data.permute([1,2,0])\n",
    "# test_mask=list(data['gt_semantic_seg'].data.flatten())\n",
    "# for k in range(len(test_mask)):\n",
    "#     if test_mask[k]==255:\n",
    "#         test_mask[k]=(0,0,0)\n",
    "#     else:       \n",
    "#         test_mask[k]=palette[int(test_mask[k])]\n",
    "\n",
    "# test_mask=torch.Tensor(test_mask).reshape(512,512,3)\n",
    "# ax[0].imshow(test_img)\n",
    "# ax[1].imshow(test_mask/255)\n",
    "\n",
    "# cv2.imwrite('./test_img.jpg',test_img.numpy())\n",
    "# test_mask=Image.fromarray(test_mask.numpy().astype(np.uint8))\n",
    "# test_mask.save('./test_mask.jpg')"
   ]
  },
  {
   "cell_type": "code",
   "execution_count": 6,
   "metadata": {},
   "outputs": [],
   "source": [
    "model = build_segmentor(cfg.model)\n",
    "model.init_weights()"
   ]
  },
  {
   "cell_type": "code",
   "execution_count": 7,
   "metadata": {},
   "outputs": [
    {
     "name": "stderr",
     "output_type": "stream",
     "text": [
      "2022-05-11 20:03:23,986 - mmseg - INFO - Epoch [1][200/736]\tlr: 1.291e-05, eta: 6:27:09, time: 3.244, data_time: 0.022, memory: 25631, decode.loss_ce.s0: 0.0766, decode.acc_seg.s0: 97.5755, decode.loss_ce.s1: 0.0706, decode.acc_seg.s1: 97.7252, decode.loss_ce.s2: 0.0702, decode.acc_seg.s2: 97.7312, decode.loss_ce.s3: 0.0704, decode.acc_seg.s3: 97.7191, aux.loss_ce: 0.0481, aux.acc_seg: 96.1683, loss: 0.3358, grad_norm: 3.7763\n",
      "2022-05-11 20:14:08,664 - mmseg - INFO - Epoch [1][400/736]\tlr: 2.516e-05, eta: 6:15:07, time: 3.223, data_time: 0.005, memory: 25631, decode.loss_ce.s0: 0.0779, decode.acc_seg.s0: 97.5005, decode.loss_ce.s1: 0.0701, decode.acc_seg.s1: 97.7114, decode.loss_ce.s2: 0.0695, decode.acc_seg.s2: 97.7370, decode.loss_ce.s3: 0.0696, decode.acc_seg.s3: 97.7378, aux.loss_ce: 0.0490, aux.acc_seg: 96.1425, loss: 0.3361, grad_norm: 3.6399\n",
      "2022-05-11 20:24:52,790 - mmseg - INFO - Epoch [1][600/736]\tlr: 3.669e-05, eta: 6:03:51, time: 3.221, data_time: 0.005, memory: 25631, decode.loss_ce.s0: 0.0832, decode.acc_seg.s0: 97.3608, decode.loss_ce.s1: 0.0758, decode.acc_seg.s1: 97.5449, decode.loss_ce.s2: 0.0747, decode.acc_seg.s2: 97.5445, decode.loss_ce.s3: 0.0748, decode.acc_seg.s3: 97.5323, aux.loss_ce: 0.0506, aux.acc_seg: 96.0099, loss: 0.3591, grad_norm: 5.3679\n",
      "2022-05-11 20:42:58,365 - mmseg - INFO - Epoch [2][200/736]\tlr: 5.442e-05, eta: 4:55:43, time: 3.238, data_time: 0.021, memory: 25631, decode.loss_ce.s0: 0.0826, decode.acc_seg.s0: 97.3359, decode.loss_ce.s1: 0.0786, decode.acc_seg.s1: 97.3885, decode.loss_ce.s2: 0.0785, decode.acc_seg.s2: 97.4012, decode.loss_ce.s3: 0.0788, decode.acc_seg.s3: 97.3976, aux.loss_ce: 0.0491, aux.acc_seg: 96.0816, loss: 0.3676, grad_norm: 5.2705\n",
      "2022-05-11 20:53:41,598 - mmseg - INFO - Epoch [2][400/736]\tlr: 6.401e-05, eta: 4:54:48, time: 3.216, data_time: 0.005, memory: 25631, decode.loss_ce.s0: 0.0939, decode.acc_seg.s0: 97.2117, decode.loss_ce.s1: 0.0894, decode.acc_seg.s1: 97.2877, decode.loss_ce.s2: 0.0887, decode.acc_seg.s2: 97.3209, decode.loss_ce.s3: 0.0894, decode.acc_seg.s3: 97.3153, aux.loss_ce: 0.0535, aux.acc_seg: 95.9114, loss: 0.4149, grad_norm: 4.8646\n",
      "2022-05-11 21:04:25,123 - mmseg - INFO - Epoch [2][600/736]\tlr: 7.287e-05, eta: 4:50:58, time: 3.218, data_time: 0.005, memory: 25631, decode.loss_ce.s0: 0.0866, decode.acc_seg.s0: 97.3444, decode.loss_ce.s1: 0.0794, decode.acc_seg.s1: 97.5117, decode.loss_ce.s2: 0.0785, decode.acc_seg.s2: 97.5400, decode.loss_ce.s3: 0.0788, decode.acc_seg.s3: 97.5285, aux.loss_ce: 0.0523, aux.acc_seg: 95.9398, loss: 0.3755, grad_norm: 5.0266\n",
      "2022-05-11 21:11:42,661 - mmseg - INFO - Saving checkpoint at 2 epochs\n",
      "2022-05-11 21:22:41,460 - mmseg - INFO - Epoch [3][200/736]\tlr: 7.732e-05, eta: 4:16:14, time: 3.237, data_time: 0.020, memory: 25631, decode.loss_ce.s0: 0.1060, decode.acc_seg.s0: 96.6276, decode.loss_ce.s1: 0.1028, decode.acc_seg.s1: 96.7323, decode.loss_ce.s2: 0.1021, decode.acc_seg.s2: 96.7660, decode.loss_ce.s3: 0.1023, decode.acc_seg.s3: 96.7771, aux.loss_ce: 0.0610, aux.acc_seg: 95.2803, loss: 0.4741, grad_norm: 8.0984\n",
      "2022-05-11 21:33:25,395 - mmseg - INFO - Epoch [3][400/736]\tlr: 7.460e-05, eta: 4:12:16, time: 3.220, data_time: 0.005, memory: 25631, decode.loss_ce.s0: 0.1117, decode.acc_seg.s0: 96.5866, decode.loss_ce.s1: 0.1075, decode.acc_seg.s1: 96.6660, decode.loss_ce.s2: 0.1055, decode.acc_seg.s2: 96.7027, decode.loss_ce.s3: 0.1061, decode.acc_seg.s3: 96.7237, aux.loss_ce: 0.0637, aux.acc_seg: 95.0585, loss: 0.4945, grad_norm: 7.0181\n",
      "2022-05-11 21:44:08,858 - mmseg - INFO - Epoch [3][600/736]\tlr: 7.189e-05, eta: 4:06:59, time: 3.217, data_time: 0.005, memory: 25631, decode.loss_ce.s0: 0.1059, decode.acc_seg.s0: 96.8238, decode.loss_ce.s1: 0.0974, decode.acc_seg.s1: 97.0216, decode.loss_ce.s2: 0.0974, decode.acc_seg.s2: 97.0432, decode.loss_ce.s3: 0.0975, decode.acc_seg.s3: 97.0461, aux.loss_ce: 0.0623, aux.acc_seg: 95.1242, loss: 0.4605, grad_norm: 6.4246\n",
      "2022-05-11 22:02:13,108 - mmseg - INFO - Epoch [4][200/736]\tlr: 6.733e-05, eta: 3:41:11, time: 3.234, data_time: 0.019, memory: 25631, decode.loss_ce.s0: 0.0966, decode.acc_seg.s0: 97.0254, decode.loss_ce.s1: 0.0914, decode.acc_seg.s1: 97.0968, decode.loss_ce.s2: 0.0901, decode.acc_seg.s2: 97.1702, decode.loss_ce.s3: 0.0905, decode.acc_seg.s3: 97.1678, aux.loss_ce: 0.0577, aux.acc_seg: 95.4857, loss: 0.4263, grad_norm: 5.1442\n",
      "2022-05-11 22:12:56,554 - mmseg - INFO - Epoch [4][400/736]\tlr: 6.461e-05, eta: 3:35:31, time: 3.217, data_time: 0.005, memory: 25631, decode.loss_ce.s0: 0.0927, decode.acc_seg.s0: 97.1808, decode.loss_ce.s1: 0.0852, decode.acc_seg.s1: 97.3595, decode.loss_ce.s2: 0.0842, decode.acc_seg.s2: 97.4177, decode.loss_ce.s3: 0.0849, decode.acc_seg.s3: 97.4316, aux.loss_ce: 0.0549, aux.acc_seg: 95.6636, loss: 0.4020, grad_norm: 6.2264\n",
      "2022-05-11 22:23:39,943 - mmseg - INFO - Epoch [4][600/736]\tlr: 6.190e-05, eta: 3:29:07, time: 3.217, data_time: 0.005, memory: 25631, decode.loss_ce.s0: 0.0935, decode.acc_seg.s0: 97.0989, decode.loss_ce.s1: 0.0862, decode.acc_seg.s1: 97.2513, decode.loss_ce.s2: 0.0857, decode.acc_seg.s2: 97.2880, decode.loss_ce.s3: 0.0856, decode.acc_seg.s3: 97.2961, aux.loss_ce: 0.0542, aux.acc_seg: 95.8079, loss: 0.4052, grad_norm: 5.5711\n",
      "2022-05-11 22:30:57,671 - mmseg - INFO - Saving checkpoint at 4 epochs\n",
      "2022-05-11 22:41:55,665 - mmseg - INFO - Epoch [5][200/736]\tlr: 5.734e-05, eta: 3:07:26, time: 3.233, data_time: 0.017, memory: 25631, decode.loss_ce.s0: 0.0941, decode.acc_seg.s0: 97.0886, decode.loss_ce.s1: 0.0860, decode.acc_seg.s1: 97.2120, decode.loss_ce.s2: 0.0859, decode.acc_seg.s2: 97.2440, decode.loss_ce.s3: 0.0868, decode.acc_seg.s3: 97.2333, aux.loss_ce: 0.0551, aux.acc_seg: 95.7336, loss: 0.4078, grad_norm: 7.1135\n",
      "2022-05-11 22:52:39,695 - mmseg - INFO - Epoch [5][400/736]\tlr: 5.462e-05, eta: 3:00:45, time: 3.220, data_time: 0.005, memory: 25631, decode.loss_ce.s0: 0.0879, decode.acc_seg.s0: 97.2630, decode.loss_ce.s1: 0.0827, decode.acc_seg.s1: 97.3407, decode.loss_ce.s2: 0.0820, decode.acc_seg.s2: 97.3997, decode.loss_ce.s3: 0.0824, decode.acc_seg.s3: 97.4251, aux.loss_ce: 0.0507, aux.acc_seg: 96.0233, loss: 0.3856, grad_norm: 5.2122\n",
      "2022-05-11 23:03:23,616 - mmseg - INFO - Epoch [5][600/736]\tlr: 5.191e-05, eta: 2:53:37, time: 3.220, data_time: 0.005, memory: 25631, decode.loss_ce.s0: 0.0836, decode.acc_seg.s0: 97.3734, decode.loss_ce.s1: 0.0755, decode.acc_seg.s1: 97.5328, decode.loss_ce.s2: 0.0748, decode.acc_seg.s2: 97.5602, decode.loss_ce.s3: 0.0752, decode.acc_seg.s3: 97.5813, aux.loss_ce: 0.0489, aux.acc_seg: 96.1674, loss: 0.3581, grad_norm: 4.9957\n",
      "2022-05-11 23:21:28,195 - mmseg - INFO - Epoch [6][200/736]\tlr: 4.735e-05, eta: 2:34:17, time: 3.232, data_time: 0.017, memory: 25631, decode.loss_ce.s0: 0.0789, decode.acc_seg.s0: 97.4951, decode.loss_ce.s1: 0.0707, decode.acc_seg.s1: 97.6929, decode.loss_ce.s2: 0.0696, decode.acc_seg.s2: 97.7470, decode.loss_ce.s3: 0.0695, decode.acc_seg.s3: 97.7476, aux.loss_ce: 0.0488, aux.acc_seg: 96.1806, loss: 0.3376, grad_norm: 4.9176\n",
      "2022-05-11 23:32:12,144 - mmseg - INFO - Epoch [6][400/736]\tlr: 4.463e-05, eta: 2:26:55, time: 3.220, data_time: 0.005, memory: 25631, decode.loss_ce.s0: 0.0891, decode.acc_seg.s0: 97.2261, decode.loss_ce.s1: 0.0801, decode.acc_seg.s1: 97.3992, decode.loss_ce.s2: 0.0791, decode.acc_seg.s2: 97.4356, decode.loss_ce.s3: 0.0794, decode.acc_seg.s3: 97.4195, aux.loss_ce: 0.0530, aux.acc_seg: 95.8415, loss: 0.3808, grad_norm: 5.4292\n",
      "2022-05-11 23:42:56,466 - mmseg - INFO - Epoch [6][600/736]\tlr: 4.192e-05, eta: 2:19:14, time: 3.222, data_time: 0.005, memory: 25631, decode.loss_ce.s0: 0.0827, decode.acc_seg.s0: 97.3528, decode.loss_ce.s1: 0.0753, decode.acc_seg.s1: 97.5248, decode.loss_ce.s2: 0.0744, decode.acc_seg.s2: 97.5490, decode.loss_ce.s3: 0.0743, decode.acc_seg.s3: 97.5524, aux.loss_ce: 0.0507, aux.acc_seg: 95.9393, loss: 0.3574, grad_norm: 5.3112\n",
      "2022-05-11 23:50:14,620 - mmseg - INFO - Saving checkpoint at 6 epochs\n",
      "2022-05-12 00:01:13,335 - mmseg - INFO - Epoch [7][200/736]\tlr: 3.736e-05, eta: 2:01:26, time: 3.237, data_time: 0.019, memory: 25631, decode.loss_ce.s0: 0.0748, decode.acc_seg.s0: 97.5839, decode.loss_ce.s1: 0.0682, decode.acc_seg.s1: 97.7442, decode.loss_ce.s2: 0.0676, decode.acc_seg.s2: 97.7555, decode.loss_ce.s3: 0.0676, decode.acc_seg.s3: 97.7586, aux.loss_ce: 0.0480, aux.acc_seg: 96.1708, loss: 0.3262, grad_norm: 4.3625\n",
      "2022-05-12 00:11:57,407 - mmseg - INFO - Epoch [7][400/736]\tlr: 3.464e-05, eta: 1:53:34, time: 3.220, data_time: 0.005, memory: 25631, decode.loss_ce.s0: 0.0777, decode.acc_seg.s0: 97.5138, decode.loss_ce.s1: 0.0711, decode.acc_seg.s1: 97.6624, decode.loss_ce.s2: 0.0699, decode.acc_seg.s2: 97.6900, decode.loss_ce.s3: 0.0700, decode.acc_seg.s3: 97.6953, aux.loss_ce: 0.0472, aux.acc_seg: 96.3114, loss: 0.3360, grad_norm: 4.4499\n",
      "2022-05-12 00:22:41,238 - mmseg - INFO - Epoch [7][600/736]\tlr: 3.193e-05, eta: 1:45:29, time: 3.219, data_time: 0.005, memory: 25631, decode.loss_ce.s0: 0.0812, decode.acc_seg.s0: 97.3817, decode.loss_ce.s1: 0.0757, decode.acc_seg.s1: 97.4779, decode.loss_ce.s2: 0.0752, decode.acc_seg.s2: 97.4962, decode.loss_ce.s3: 0.0755, decode.acc_seg.s3: 97.4962, aux.loss_ce: 0.0508, aux.acc_seg: 95.9797, loss: 0.3584, grad_norm: 5.4953\n",
      "2022-05-12 00:40:47,117 - mmseg - INFO - Epoch [8][200/736]\tlr: 2.737e-05, eta: 1:28:45, time: 3.241, data_time: 0.022, memory: 25631, decode.loss_ce.s0: 0.0776, decode.acc_seg.s0: 97.5182, decode.loss_ce.s1: 0.0700, decode.acc_seg.s1: 97.6865, decode.loss_ce.s2: 0.0690, decode.acc_seg.s2: 97.7138, decode.loss_ce.s3: 0.0696, decode.acc_seg.s3: 97.6979, aux.loss_ce: 0.0476, aux.acc_seg: 96.2289, loss: 0.3338, grad_norm: 4.0344\n",
      "2022-05-12 00:51:31,349 - mmseg - INFO - Epoch [8][400/736]\tlr: 2.465e-05, eta: 1:20:31, time: 3.221, data_time: 0.005, memory: 25631, decode.loss_ce.s0: 0.0714, decode.acc_seg.s0: 97.7359, decode.loss_ce.s1: 0.0651, decode.acc_seg.s1: 97.8697, decode.loss_ce.s2: 0.0646, decode.acc_seg.s2: 97.8836, decode.loss_ce.s3: 0.0650, decode.acc_seg.s3: 97.8780, aux.loss_ce: 0.0455, aux.acc_seg: 96.4102, loss: 0.3115, grad_norm: 3.6703\n",
      "2022-05-12 01:02:15,449 - mmseg - INFO - Epoch [8][600/736]\tlr: 2.194e-05, eta: 1:12:07, time: 3.220, data_time: 0.005, memory: 25631, decode.loss_ce.s0: 0.0743, decode.acc_seg.s0: 97.6321, decode.loss_ce.s1: 0.0696, decode.acc_seg.s1: 97.7313, decode.loss_ce.s2: 0.0690, decode.acc_seg.s2: 97.7687, decode.loss_ce.s3: 0.0694, decode.acc_seg.s3: 97.7611, aux.loss_ce: 0.0452, aux.acc_seg: 96.3869, loss: 0.3275, grad_norm: 4.4658\n",
      "2022-05-12 01:09:33,073 - mmseg - INFO - Saving checkpoint at 8 epochs\n",
      "2022-05-12 01:20:33,921 - mmseg - INFO - Epoch [9][200/736]\tlr: 1.738e-05, eta: 0:56:10, time: 3.248, data_time: 0.026, memory: 25631, decode.loss_ce.s0: 0.0761, decode.acc_seg.s0: 97.5743, decode.loss_ce.s1: 0.0700, decode.acc_seg.s1: 97.7397, decode.loss_ce.s2: 0.0687, decode.acc_seg.s2: 97.7698, decode.loss_ce.s3: 0.0687, decode.acc_seg.s3: 97.7728, aux.loss_ce: 0.0474, aux.acc_seg: 96.2808, loss: 0.3310, grad_norm: 4.3114\n",
      "2022-05-12 01:31:17,491 - mmseg - INFO - Epoch [9][400/736]\tlr: 1.466e-05, eta: 0:47:39, time: 3.218, data_time: 0.005, memory: 25631, decode.loss_ce.s0: 0.0721, decode.acc_seg.s0: 97.6907, decode.loss_ce.s1: 0.0660, decode.acc_seg.s1: 97.8188, decode.loss_ce.s2: 0.0657, decode.acc_seg.s2: 97.8304, decode.loss_ce.s3: 0.0659, decode.acc_seg.s3: 97.8260, aux.loss_ce: 0.0443, aux.acc_seg: 96.4980, loss: 0.3140, grad_norm: 3.7136\n",
      "2022-05-12 01:42:01,349 - mmseg - INFO - Epoch [9][600/736]\tlr: 1.195e-05, eta: 0:39:01, time: 3.219, data_time: 0.005, memory: 25631, decode.loss_ce.s0: 0.0734, decode.acc_seg.s0: 97.7751, decode.loss_ce.s1: 0.0670, decode.acc_seg.s1: 97.8933, decode.loss_ce.s2: 0.0660, decode.acc_seg.s2: 97.9201, decode.loss_ce.s3: 0.0662, decode.acc_seg.s3: 97.9210, aux.loss_ce: 0.0445, aux.acc_seg: 96.5329, loss: 0.3170, grad_norm: 3.9616\n",
      "2022-05-12 02:00:06,608 - mmseg - INFO - Epoch [10][200/736]\tlr: 7.389e-06, eta: 0:23:39, time: 3.237, data_time: 0.020, memory: 25631, decode.loss_ce.s0: 0.0720, decode.acc_seg.s0: 97.7176, decode.loss_ce.s1: 0.0660, decode.acc_seg.s1: 97.8501, decode.loss_ce.s2: 0.0653, decode.acc_seg.s2: 97.8881, decode.loss_ce.s3: 0.0655, decode.acc_seg.s3: 97.8828, aux.loss_ce: 0.0429, aux.acc_seg: 96.5916, loss: 0.3117, grad_norm: 3.5172\n",
      "2022-05-12 02:10:50,618 - mmseg - INFO - Epoch [10][400/736]\tlr: 4.674e-06, eta: 0:14:55, time: 3.220, data_time: 0.005, memory: 25631, decode.loss_ce.s0: 0.0650, decode.acc_seg.s0: 97.9321, decode.loss_ce.s1: 0.0596, decode.acc_seg.s1: 98.0537, decode.loss_ce.s2: 0.0589, decode.acc_seg.s2: 98.0813, decode.loss_ce.s3: 0.0589, decode.acc_seg.s3: 98.0794, aux.loss_ce: 0.0393, aux.acc_seg: 96.8814, loss: 0.2816, grad_norm: 2.9471\n",
      "2022-05-12 02:21:34,556 - mmseg - INFO - Epoch [10][600/736]\tlr: 1.960e-06, eta: 0:06:04, time: 3.220, data_time: 0.005, memory: 25631, decode.loss_ce.s0: 0.0719, decode.acc_seg.s0: 97.7070, decode.loss_ce.s1: 0.0647, decode.acc_seg.s1: 97.8742, decode.loss_ce.s2: 0.0641, decode.acc_seg.s2: 97.8851, decode.loss_ce.s3: 0.0641, decode.acc_seg.s3: 97.8802, aux.loss_ce: 0.0431, aux.acc_seg: 96.5444, loss: 0.3080, grad_norm: 3.1786\n",
      "2022-05-12 02:28:52,184 - mmseg - INFO - Saving checkpoint at 10 epochs\n"
     ]
    }
   ],
   "source": [
    "train_segmentor(model, datasets, cfg, distributed=False, validate=False,meta=dict())\n",
    "# 모델 학습\n"
   ]
  },
  {
   "cell_type": "code",
   "execution_count": null,
   "metadata": {},
   "outputs": [],
   "source": []
  }
 ],
 "metadata": {
  "interpreter": {
   "hash": "d4d1e4263499bec80672ea0156c357c1ee493ec2b1c70f0acce89fc37c4a6abe"
  },
  "kernelspec": {
   "display_name": "Python 3.8.5 ('base')",
   "language": "python",
   "name": "python3"
  },
  "language_info": {
   "codemirror_mode": {
    "name": "ipython",
    "version": 3
   },
   "file_extension": ".py",
   "mimetype": "text/x-python",
   "name": "python",
   "nbconvert_exporter": "python",
   "pygments_lexer": "ipython3",
   "version": "3.8.5"
  },
  "orig_nbformat": 4
 },
 "nbformat": 4,
 "nbformat_minor": 2
}
